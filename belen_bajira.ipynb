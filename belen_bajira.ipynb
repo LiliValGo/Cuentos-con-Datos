{
  "nbformat": 4,
  "nbformat_minor": 0,
  "metadata": {
    "colab": {
      "name": "belen_bajira.ipynb",
      "provenance": [],
      "collapsed_sections": []
    },
    "kernelspec": {
      "name": "python3",
      "display_name": "Python 3"
    }
  },
  "cells": [
    {
      "cell_type": "markdown",
      "metadata": {
        "id": "WR1CMrC6W3n5"
      },
      "source": [
        "# DEPARTAMENTO DE ANTIOQUIA "
      ]
    },
    {
      "cell_type": "markdown",
      "metadata": {
        "id": "-afrXj56oTEJ"
      },
      "source": [
        "## Cargando ARCHIVO"
      ]
    },
    {
      "cell_type": "code",
      "metadata": {
        "colab": {
          "resources": {
            "http://localhost:8080/nbextensions/google.colab/files.js": {
              "data": "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",
              "ok": true,
              "headers": [
                [
                  "content-type",
                  "application/javascript"
                ]
              ],
              "status": 200,
              "status_text": ""
            }
          },
          "base_uri": "https://localhost:8080/",
          "height": 72
        },
        "id": "Orlzb1rP3S6J",
        "outputId": "b7dd5f83-dc06-4a2f-cb48-c0dc0499f05c"
      },
      "source": [
        "# cargar el csv con colab\n",
        "from google.colab import files\n",
        "import pandas as pd\n",
        "#Sube el archivo desde el pc\n",
        "uploaded = files.upload()\n",
        "# obtenemos la ruta en colab del archivo csv cargado con colab\n",
        "filePath = next(iter(uploaded))\n",
        "# leemos el archivo csv y lo pasamos a pandas\n",
        "df=pd.read_csv(filePath)"
      ],
      "execution_count": null,
      "outputs": [
        {
          "output_type": "display_data",
          "data": {
            "text/html": [
              "\n",
              "     <input type=\"file\" id=\"files-ad2a2e28-6e4f-4d94-aaed-c4c25bd4564a\" name=\"files[]\" multiple disabled\n",
              "        style=\"border:none\" />\n",
              "     <output id=\"result-ad2a2e28-6e4f-4d94-aaed-c4c25bd4564a\">\n",
              "      Upload widget is only available when the cell has been executed in the\n",
              "      current browser session. Please rerun this cell to enable.\n",
              "      </output>\n",
              "      <script src=\"/nbextensions/google.colab/files.js\"></script> "
            ],
            "text/plain": [
              "<IPython.core.display.HTML object>"
            ]
          },
          "metadata": {
            "tags": []
          }
        },
        {
          "output_type": "stream",
          "text": [
            "Saving dpto_antioquia.csv to dpto_antioquia.csv\n"
          ],
          "name": "stdout"
        }
      ]
    },
    {
      "cell_type": "markdown",
      "metadata": {
        "id": "xGRrCtvTQ6YT"
      },
      "source": [
        "PROTAGONISTAS DE ESTE CUENTO"
      ]
    },
    {
      "cell_type": "code",
      "metadata": {
        "id": "ae9xA2QnQwQn"
      },
      "source": [
        "import numpy as np\r\n",
        "import pandas as pd\r\n",
        "import matplotlib.pyplot as plt\r\n"
      ],
      "execution_count": null,
      "outputs": []
    },
    {
      "cell_type": "markdown",
      "metadata": {
        "id": "OY64rJA7ociX"
      },
      "source": [
        "## Convirtiendo en Dataframe "
      ]
    },
    {
      "cell_type": "code",
      "metadata": {
        "id": "R2ehkTe17ZGK",
        "colab": {
          "base_uri": "https://localhost:8080/",
          "height": 419
        },
        "outputId": "e46486c9-0e31-489d-9485-a6f793185538"
      },
      "source": [
        "dataframe_antioquia = pd.read_csv('dpto_antioquia.csv')\r\n",
        "dataframe_antioquia"
      ],
      "execution_count": null,
      "outputs": [
        {
          "output_type": "execute_result",
          "data": {
            "text/html": [
              "<div>\n",
              "<style scoped>\n",
              "    .dataframe tbody tr th:only-of-type {\n",
              "        vertical-align: middle;\n",
              "    }\n",
              "\n",
              "    .dataframe tbody tr th {\n",
              "        vertical-align: top;\n",
              "    }\n",
              "\n",
              "    .dataframe thead th {\n",
              "        text-align: right;\n",
              "    }\n",
              "</style>\n",
              "<table border=\"1\" class=\"dataframe\">\n",
              "  <thead>\n",
              "    <tr style=\"text-align: right;\">\n",
              "      <th></th>\n",
              "      <th>municipios</th>\n",
              "      <th>Extensión  km²</th>\n",
              "    </tr>\n",
              "  </thead>\n",
              "  <tbody>\n",
              "    <tr>\n",
              "      <th>0</th>\n",
              "      <td>Abejorral</td>\n",
              "      <td>497</td>\n",
              "    </tr>\n",
              "    <tr>\n",
              "      <th>1</th>\n",
              "      <td>Abriaquí</td>\n",
              "      <td>293</td>\n",
              "    </tr>\n",
              "    <tr>\n",
              "      <th>2</th>\n",
              "      <td>Alejandría</td>\n",
              "      <td>151</td>\n",
              "    </tr>\n",
              "    <tr>\n",
              "      <th>3</th>\n",
              "      <td>Amagá</td>\n",
              "      <td>85</td>\n",
              "    </tr>\n",
              "    <tr>\n",
              "      <th>4</th>\n",
              "      <td>Amalfi</td>\n",
              "      <td>1224</td>\n",
              "    </tr>\n",
              "    <tr>\n",
              "      <th>...</th>\n",
              "      <td>...</td>\n",
              "      <td>...</td>\n",
              "    </tr>\n",
              "    <tr>\n",
              "      <th>120</th>\n",
              "      <td>Yalí</td>\n",
              "      <td>447</td>\n",
              "    </tr>\n",
              "    <tr>\n",
              "      <th>121</th>\n",
              "      <td>Yarumal</td>\n",
              "      <td>724</td>\n",
              "    </tr>\n",
              "    <tr>\n",
              "      <th>122</th>\n",
              "      <td>Yolombó</td>\n",
              "      <td>941</td>\n",
              "    </tr>\n",
              "    <tr>\n",
              "      <th>123</th>\n",
              "      <td>Yondó</td>\n",
              "      <td>1881</td>\n",
              "    </tr>\n",
              "    <tr>\n",
              "      <th>124</th>\n",
              "      <td>Zaragoza</td>\n",
              "      <td>1064</td>\n",
              "    </tr>\n",
              "  </tbody>\n",
              "</table>\n",
              "<p>125 rows × 2 columns</p>\n",
              "</div>"
            ],
            "text/plain": [
              "     municipios  Extensión  km²\n",
              "0     Abejorral             497\n",
              "1      Abriaquí             293\n",
              "2    Alejandría             151\n",
              "3         Amagá              85\n",
              "4        Amalfi            1224\n",
              "..          ...             ...\n",
              "120        Yalí             447\n",
              "121     Yarumal             724\n",
              "122     Yolombó             941\n",
              "123       Yondó            1881\n",
              "124    Zaragoza            1064\n",
              "\n",
              "[125 rows x 2 columns]"
            ]
          },
          "metadata": {
            "tags": []
          },
          "execution_count": 4
        }
      ]
    },
    {
      "cell_type": "markdown",
      "metadata": {
        "id": "2Xee5ImEP9qt"
      },
      "source": [
        "## Convertir de Dataframe a un array \r\n",
        "\r\n",
        "\r\n",
        "\r\n"
      ]
    },
    {
      "cell_type": "markdown",
      "metadata": {
        "id": "ADefuSbtGWqW"
      },
      "source": [
        "Extensión de Antioquia "
      ]
    },
    {
      "cell_type": "code",
      "metadata": {
        "colab": {
          "base_uri": "https://localhost:8080/"
        },
        "id": "zuZyydbyRoy9",
        "outputId": "91cb9979-a048-47f7-8863-94a330f3d7e8"
      },
      "source": [
        "\r\n",
        "array_antioquia = np.array(dataframe_antioquia)\r\n",
        "tamaño_antioquia= np.sum(array_antioquia[:, 1])\r\n",
        "print('¿Sabias que Antioquia es el Departamento mas grande de Colombia? ' + 'mide ' + str(tamaño_antioquia) + ' km²')\r\n"
      ],
      "execution_count": null,
      "outputs": [
        {
          "output_type": "stream",
          "text": [
            "¿Sabias que Antioquia es el Departamento mas grande de Colombia? mide 63612 km²\n"
          ],
          "name": "stdout"
        }
      ]
    },
    {
      "cell_type": "markdown",
      "metadata": {
        "id": "WvmO5YayGoFH"
      },
      "source": [
        "mediana "
      ]
    },
    {
      "cell_type": "code",
      "metadata": {
        "colab": {
          "base_uri": "https://localhost:8080/"
        },
        "id": "Xo3kdD4mgi_W",
        "outputId": "b2b2b474-dbde-4900-964f-c02eb42b73ec"
      },
      "source": [
        "mediana_antioquia= np.round(np.median(array_antioquia[:,1]))\r\n",
        "print('La Mediana del tamaño de los municipios de Antioquia ' + 'es: ' + str(mediana_antioquia) + ' km²')\r\n"
      ],
      "execution_count": null,
      "outputs": [
        {
          "output_type": "stream",
          "text": [
            "La Mediana del tamaño de los municipios de Antioquia es: 256.0 km²\n"
          ],
          "name": "stdout"
        }
      ]
    },
    {
      "cell_type": "markdown",
      "metadata": {
        "id": "WzjmMUqHGreN"
      },
      "source": [
        "media "
      ]
    },
    {
      "cell_type": "code",
      "metadata": {
        "colab": {
          "base_uri": "https://localhost:8080/"
        },
        "id": "fH6Iro_2Ldgy",
        "outputId": "4e029ad4-6488-47b2-a2f4-fb4098ace27d"
      },
      "source": [
        "media_antioquia= np.round(np.mean(array_antioquia[:,1]))\r\n",
        "print('El promedio del tamaño de los municipios de Antioquia es: ' + str(media_antioquia) + ' km²')\r\n"
      ],
      "execution_count": null,
      "outputs": [
        {
          "output_type": "stream",
          "text": [
            "El promedio del tamaño de los municipios de Antioquia es: 509.0 km²\n"
          ],
          "name": "stdout"
        }
      ]
    },
    {
      "cell_type": "markdown",
      "metadata": {
        "id": "hoxyFGacaijv"
      },
      "source": [
        "Municipio de mayor extensión "
      ]
    },
    {
      "cell_type": "code",
      "metadata": {
        "colab": {
          "base_uri": "https://localhost:8080/"
        },
        "id": "7P8SLdrSvIS6",
        "outputId": "0c65bc53-e573-49a1-b8d4-a3e8b746cc6c"
      },
      "source": [
        "extencion_max_antioquia = array_antioquia[:,1].max()\r\n",
        "print('El municipio con mayor extensión de tierra tiene: ' + str(extencion_max_antioquia) + ' km²')\r\n",
        "\r\n"
      ],
      "execution_count": null,
      "outputs": [
        {
          "output_type": "stream",
          "text": [
            "El municipio con mayor extensión de tierra tiene: 3090 km²\n"
          ],
          "name": "stdout"
        }
      ]
    },
    {
      "cell_type": "markdown",
      "metadata": {
        "id": "CdG6b746wFhF"
      },
      "source": [
        "Municipio de menor extension "
      ]
    },
    {
      "cell_type": "code",
      "metadata": {
        "colab": {
          "base_uri": "https://localhost:8080/"
        },
        "id": "HKcwW40nbzMp",
        "outputId": "9061fddf-3e00-4879-bafe-bd3c9497a04a"
      },
      "source": [
        "extencion_min_antioquia= array_antioquia[:,1].min()\r\n",
        "print('El municipio con menor extensión de tierra tiene: ' + str(extencion_min_antioquia) + ' km²')"
      ],
      "execution_count": null,
      "outputs": [
        {
          "output_type": "stream",
          "text": [
            "El municipio con menor extensión de tierra tiene: 15 km²\n"
          ],
          "name": "stdout"
        }
      ]
    },
    {
      "cell_type": "markdown",
      "metadata": {
        "id": "EPGz0l4SXHB_"
      },
      "source": [
        "## Creamos nuevas columnas con Bucles"
      ]
    },
    {
      "cell_type": "code",
      "metadata": {
        "colab": {
          "base_uri": "https://localhost:8080/",
          "height": 419
        },
        "id": "sfU2Vp1fku_4",
        "outputId": "6099201a-8cb4-4772-811f-6f77bf064fda"
      },
      "source": [
        "categoria_municipios= []\r\n",
        "\r\n",
        "for i,row in dataframe_antioquia.iterrows():\r\n",
        "  if row['Extensión  km²'] < 1000:\r\n",
        "    categoria_municipios.append('Municipio Pequeño')\r\n",
        "  elif row['Extensión  km²'] >= 1000 and row['Extensión  km²'] <=2000:\r\n",
        "    categoria_municipios.append('Municipio Mediano')\r\n",
        "  else:\r\n",
        "    categoria_municipios.append('Municipio Grande')\r\n",
        "\r\n",
        "\r\n",
        "color_tamaño_municipios= []\r\n",
        "\r\n",
        "for i,row in dataframe_antioquia.iterrows():\r\n",
        "  if row['Extensión  km²'] < 1000:\r\n",
        "    color_tamaño_municipios.append('lightgreen')\r\n",
        "  elif row['Extensión  km²'] >= 1000 and row['Extensión  km²'] <=2000:\r\n",
        "    color_tamaño_municipios.append('orange')\r\n",
        "  else:\r\n",
        "    color_tamaño_municipios.append('blue')\r\n",
        "\r\n",
        "dataframe_antioquia['categoria_municipios'] = categoria_municipios\r\n",
        "dataframe_antioquia['color_tamaño_municipios'] = color_tamaño_municipios\r\n",
        "\r\n",
        "dataframe_antioquia"
      ],
      "execution_count": null,
      "outputs": [
        {
          "output_type": "execute_result",
          "data": {
            "text/html": [
              "<div>\n",
              "<style scoped>\n",
              "    .dataframe tbody tr th:only-of-type {\n",
              "        vertical-align: middle;\n",
              "    }\n",
              "\n",
              "    .dataframe tbody tr th {\n",
              "        vertical-align: top;\n",
              "    }\n",
              "\n",
              "    .dataframe thead th {\n",
              "        text-align: right;\n",
              "    }\n",
              "</style>\n",
              "<table border=\"1\" class=\"dataframe\">\n",
              "  <thead>\n",
              "    <tr style=\"text-align: right;\">\n",
              "      <th></th>\n",
              "      <th>municipios</th>\n",
              "      <th>Extensión  km²</th>\n",
              "      <th>categoria_municipios</th>\n",
              "      <th>color_tamaño_municipios</th>\n",
              "    </tr>\n",
              "  </thead>\n",
              "  <tbody>\n",
              "    <tr>\n",
              "      <th>0</th>\n",
              "      <td>Abejorral</td>\n",
              "      <td>497</td>\n",
              "      <td>Municipio Pequeño</td>\n",
              "      <td>lightgreen</td>\n",
              "    </tr>\n",
              "    <tr>\n",
              "      <th>1</th>\n",
              "      <td>Abriaquí</td>\n",
              "      <td>293</td>\n",
              "      <td>Municipio Pequeño</td>\n",
              "      <td>lightgreen</td>\n",
              "    </tr>\n",
              "    <tr>\n",
              "      <th>2</th>\n",
              "      <td>Alejandría</td>\n",
              "      <td>151</td>\n",
              "      <td>Municipio Pequeño</td>\n",
              "      <td>lightgreen</td>\n",
              "    </tr>\n",
              "    <tr>\n",
              "      <th>3</th>\n",
              "      <td>Amagá</td>\n",
              "      <td>85</td>\n",
              "      <td>Municipio Pequeño</td>\n",
              "      <td>lightgreen</td>\n",
              "    </tr>\n",
              "    <tr>\n",
              "      <th>4</th>\n",
              "      <td>Amalfi</td>\n",
              "      <td>1224</td>\n",
              "      <td>Municipio Mediano</td>\n",
              "      <td>orange</td>\n",
              "    </tr>\n",
              "    <tr>\n",
              "      <th>...</th>\n",
              "      <td>...</td>\n",
              "      <td>...</td>\n",
              "      <td>...</td>\n",
              "      <td>...</td>\n",
              "    </tr>\n",
              "    <tr>\n",
              "      <th>120</th>\n",
              "      <td>Yalí</td>\n",
              "      <td>447</td>\n",
              "      <td>Municipio Pequeño</td>\n",
              "      <td>lightgreen</td>\n",
              "    </tr>\n",
              "    <tr>\n",
              "      <th>121</th>\n",
              "      <td>Yarumal</td>\n",
              "      <td>724</td>\n",
              "      <td>Municipio Pequeño</td>\n",
              "      <td>lightgreen</td>\n",
              "    </tr>\n",
              "    <tr>\n",
              "      <th>122</th>\n",
              "      <td>Yolombó</td>\n",
              "      <td>941</td>\n",
              "      <td>Municipio Pequeño</td>\n",
              "      <td>lightgreen</td>\n",
              "    </tr>\n",
              "    <tr>\n",
              "      <th>123</th>\n",
              "      <td>Yondó</td>\n",
              "      <td>1881</td>\n",
              "      <td>Municipio Mediano</td>\n",
              "      <td>orange</td>\n",
              "    </tr>\n",
              "    <tr>\n",
              "      <th>124</th>\n",
              "      <td>Zaragoza</td>\n",
              "      <td>1064</td>\n",
              "      <td>Municipio Mediano</td>\n",
              "      <td>orange</td>\n",
              "    </tr>\n",
              "  </tbody>\n",
              "</table>\n",
              "<p>125 rows × 4 columns</p>\n",
              "</div>"
            ],
            "text/plain": [
              "     municipios  Extensión  km² categoria_municipios color_tamaño_municipios\n",
              "0     Abejorral             497    Municipio Pequeño              lightgreen\n",
              "1      Abriaquí             293    Municipio Pequeño              lightgreen\n",
              "2    Alejandría             151    Municipio Pequeño              lightgreen\n",
              "3         Amagá              85    Municipio Pequeño              lightgreen\n",
              "4        Amalfi            1224    Municipio Mediano                  orange\n",
              "..          ...             ...                  ...                     ...\n",
              "120        Yalí             447    Municipio Pequeño              lightgreen\n",
              "121     Yarumal             724    Municipio Pequeño              lightgreen\n",
              "122     Yolombó             941    Municipio Pequeño              lightgreen\n",
              "123       Yondó            1881    Municipio Mediano                  orange\n",
              "124    Zaragoza            1064    Municipio Mediano                  orange\n",
              "\n",
              "[125 rows x 4 columns]"
            ]
          },
          "metadata": {
            "tags": []
          },
          "execution_count": 11
        }
      ]
    },
    {
      "cell_type": "markdown",
      "metadata": {
        "id": "NfJNfrWvDnMO"
      },
      "source": [
        "## Grafiquemos "
      ]
    },
    {
      "cell_type": "code",
      "metadata": {
        "colab": {
          "base_uri": "https://localhost:8080/",
          "height": 361
        },
        "id": "QTbOKZvkkD8e",
        "outputId": "abb4b88e-ed3e-46a0-dafd-b85bb494c5c6"
      },
      "source": [
        "plt.scatter(dataframe_antioquia['municipios'], dataframe_antioquia['Extensión  km²'], \r\n",
        "            c= color_tamaño_municipios, s= dataframe_antioquia['Extensión  km²'])\r\n",
        "plt.xticks(rotation=90)\r\n",
        "plt.grid()\r\n",
        "plt.xlabel('Municipios (0-25)', fontsize=15)\r\n",
        "plt.ylabel('Extensión (km²)', fontsize=15)\r\n",
        "plt.title('Tamaño de los municipios del Dpto de Antioquia', fontsize=18)\r\n",
        "plt.text(4, 1000, 'Amalfi', fontsize=14)\r\n",
        "plt.text(8, 1300, 'Anorí', fontsize=14)\r\n",
        "plt.text(20, 1800, 'Cáceres', fontsize=14)\r\n",
        "plt.xlim(0, 25)\r\n",
        "plt.show()"
      ],
      "execution_count": null,
      "outputs": [
        {
          "output_type": "display_data",
          "data": {
            "image/png": "[encoded data removed]",
            "text/plain": [
              "<Figure size 432x288 with 1 Axes>"
            ]
          },
          "metadata": {
            "tags": [],
            "needs_background": "light"
          }
        }
      ]
    },
    {
      "cell_type": "code",
      "metadata": {
        "colab": {
          "base_uri": "https://localhost:8080/",
          "height": 399
        },
        "id": "Cm0vlgq6ztHj",
        "outputId": "f8ed39a4-1605-4c49-ba43-5264ab66b70b"
      },
      "source": [
        "plt.scatter(dataframe_antioquia['municipios'], dataframe_antioquia['Extensión  km²'], \r\n",
        "            c= color_tamaño_municipios, s= dataframe_antioquia['Extensión  km²'])\r\n",
        "plt.xticks(rotation=90)\r\n",
        "plt.grid()\r\n",
        "plt.xlabel('Municipios (0-25)', fontsize=15)\r\n",
        "plt.ylabel('Extensión (km²)', fontsize=15)\r\n",
        "plt.title('Tamaño de los municipios del Dpto de Antioquia', fontsize=18)\r\n",
        "plt.text(4, 1000, 'Amalfi', fontsize=14)\r\n",
        "plt.text(8, 1300, 'Anorí', fontsize=14)\r\n",
        "plt.text(20, 1800, 'Cáceres', fontsize=14)\r\n",
        "plt.xlim(0, 25)\r\n",
        "plt.show()"
      ],
      "execution_count": null,
      "outputs": [
        {
          "output_type": "display_data",
          "data": {
            "image/png": "[encoded data removed]",
            "text/plain": [
              "<Figure size 432x288 with 1 Axes>"
            ]
          },
          "metadata": {
            "tags": [],
            "needs_background": "light"
          }
        }
      ]
    },
    {
      "cell_type": "code",
      "metadata": {
        "colab": {
          "base_uri": "https://localhost:8080/",
          "height": 385
        },
        "id": "Z-TfPK5uzzb6",
        "outputId": "c66e1c5d-ebba-4cd3-e27d-6ed4302be61c"
      },
      "source": [
        "plt.scatter(dataframe_antioquia['municipios'], dataframe_antioquia['Extensión  km²'], \r\n",
        "            c= color_tamaño_municipios, s= dataframe_antioquia['Extensión  km²'])\r\n",
        "plt.xticks(rotation=90)\r\n",
        "plt.grid()\r\n",
        "plt.xlabel('Municipios (50-75)', fontsize=15)\r\n",
        "plt.ylabel('Extensión (km²)', fontsize=15)\r\n",
        "plt.title('Tamaño de los municipios del Dpto de Antioquia', fontsize=18)\r\n",
        "plt.text(62, 2300, 'Ituango', fontsize=14)\r\n",
        "plt.text(68, 1400, 'Murindó', fontsize=14)\r\n",
        "plt.text(69, 700, 'Mutatá', fontsize=14)\r\n",
        "plt.xlim(50, 75)\r\n",
        "plt.show()"
      ],
      "execution_count": null,
      "outputs": [
        {
          "output_type": "display_data",
          "data": {
            "image/png": "[encoded data removed]",
            "text/plain": [
              "<Figure size 432x288 with 1 Axes>"
            ]
          },
          "metadata": {
            "tags": [],
            "needs_background": "light"
          }
        }
      ]
    },
    {
      "cell_type": "code",
      "metadata": {
        "colab": {
          "base_uri": "https://localhost:8080/",
          "height": 422
        },
        "id": "tqOL8Z8Ez54-",
        "outputId": "63a286b1-3c1f-409c-8ee2-cd5314b4a946"
      },
      "source": [
        "plt.scatter(dataframe_antioquia['municipios'], dataframe_antioquia['Extensión  km²'], \r\n",
        "            c= color_tamaño_municipios, s= dataframe_antioquia['Extensión  km²'])\r\n",
        "plt.xticks(rotation=90)\r\n",
        "plt.grid()\r\n",
        "plt.xlabel('Municipios (75-100)', fontsize=15)\r\n",
        "plt.ylabel('Extensión (km²)', fontsize=15)\r\n",
        "plt.title('Tamaño de los municipios del Dpto de Antioquia', fontsize=18)\r\n",
        "plt.text(76, 1550, 'Necoclí', fontsize=14)\r\n",
        "plt.text(80, 1200, 'Puerto Berrio', fontsize=14)\r\n",
        "plt.text(81, 2400, 'Remedios', fontsize=14)\r\n",
        "plt.text(86, 0, 'Sabaneta', fontsize=14)\r\n",
        "plt.xlim(75, 100)\r\n",
        "plt.show()"
      ],
      "execution_count": null,
      "outputs": [
        {
          "output_type": "display_data",
          "data": {
            "image/png": "[encoded data removed]",
            "text/plain": [
              "<Figure size 432x288 with 1 Axes>"
            ]
          },
          "metadata": {
            "tags": [],
            "needs_background": "light"
          }
        }
      ]
    },
    {
      "cell_type": "code",
      "metadata": {
        "colab": {
          "base_uri": "https://localhost:8080/",
          "height": 404
        },
        "id": "hSZrKXsuIX2R",
        "outputId": "36ab9364-4821-4bf9-91e8-1c0db49f10f7"
      },
      "source": [
        "plt.scatter(dataframe_antioquia['municipios'], dataframe_antioquia['Extensión  km²'], \r\n",
        "            c= color_tamaño_municipios, s= dataframe_antioquia['Extensión  km²'])\r\n",
        "plt.xticks(rotation=90)\r\n",
        "plt.grid()\r\n",
        "plt.xlabel('Municipios (100-125)', fontsize=15)\r\n",
        "plt.ylabel('Extensión (km²)', fontsize=15)\r\n",
        "plt.title('Tamaño de los municipios del Dpto de Antioquia', fontsize=18)\r\n",
        "plt.text(107, 3000, 'Turbo', fontsize=14)\r\n",
        "plt.text(113, 2000, 'Urrao', fontsize=14)\r\n",
        "plt.text(101, 1500, 'Segovia', fontsize=14)\r\n",
        "plt.text(106, 1000, 'Sonsón', fontsize=14)\r\n",
        "plt.text(107, 1900, 'Tarazá', fontsize=14)\r\n",
        "plt.text(107, 1900, 'Tarazá', fontsize=14)\r\n",
        "plt.text(122, 2300, 'Yondó', fontsize=14)\r\n",
        "plt.text(120, 700, 'Zaragoza', fontsize=14)\r\n",
        "plt.text(118, 1300, 'Vigía', fontsize=14)\r\n",
        "plt.xlim(100, 125)\r\n",
        "plt.show()"
      ],
      "execution_count": null,
      "outputs": [
        {
          "output_type": "display_data",
          "data": {
            "image/png": "[encoded data removed]",
            "text/plain": [
              "<Figure size 432x288 with 1 Axes>"
            ]
          },
          "metadata": {
            "tags": [],
            "needs_background": "light"
          }
        }
      ]
    },
    {
      "cell_type": "markdown",
      "metadata": {
        "id": "zFT857iDWtYg"
      },
      "source": [
        "# DEPARTAMENTO DEL CHOCÓ "
      ]
    },
    {
      "cell_type": "markdown",
      "metadata": {
        "id": "zqIaf2HXYMpL"
      },
      "source": [
        "## Cargando Archivo"
      ]
    },
    {
      "cell_type": "code",
      "metadata": {
        "colab": {
          "resources": {
            "http://localhost:8080/nbextensions/google.colab/files.js": {
              "data": "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",
              "ok": true,
              "headers": [
                [
                  "content-type",
                  "application/javascript"
                ]
              ],
              "status": 200,
              "status_text": ""
            }
          },
          "base_uri": "https://localhost:8080/",
          "height": 72
        },
        "id": "8Yx5PGAnYTzV",
        "outputId": "f9bc572b-7037-473d-c705-d96b7812b3d0"
      },
      "source": [
        "# cargar el csv con colab\r\n",
        "from google.colab import files\r\n",
        "import pandas as pd\r\n",
        "#Sube el archivo desde el pc\r\n",
        "uploaded = files.upload()\r\n",
        "# obtenemos la ruta en colab del archivo csv cargado con colab\r\n",
        "filePath = next(iter(uploaded))\r\n",
        "# leemos el archivo csv y lo pasamos a pandas\r\n",
        "df=pd.read_csv(filePath)"
      ],
      "execution_count": null,
      "outputs": [
        {
          "output_type": "display_data",
          "data": {
            "text/html": [
              "\n",
              "     <input type=\"file\" id=\"files-b0eb3224-43ca-428b-b6bd-d39fce7f33d3\" name=\"files[]\" multiple disabled\n",
              "        style=\"border:none\" />\n",
              "     <output id=\"result-b0eb3224-43ca-428b-b6bd-d39fce7f33d3\">\n",
              "      Upload widget is only available when the cell has been executed in the\n",
              "      current browser session. Please rerun this cell to enable.\n",
              "      </output>\n",
              "      <script src=\"/nbextensions/google.colab/files.js\"></script> "
            ],
            "text/plain": [
              "<IPython.core.display.HTML object>"
            ]
          },
          "metadata": {
            "tags": []
          }
        },
        {
          "output_type": "stream",
          "text": [
            "Saving dpto_choco.csv to dpto_choco.csv\n"
          ],
          "name": "stdout"
        }
      ]
    },
    {
      "cell_type": "markdown",
      "metadata": {
        "id": "0vBJ32-NYwsS"
      },
      "source": [
        "## Protagonistas de este cuento "
      ]
    },
    {
      "cell_type": "code",
      "metadata": {
        "id": "ZbErzAwCYZdV"
      },
      "source": [
        "import numpy as np\r\n",
        "import pandas as pd\r\n",
        "import matplotlib.pyplot as plt\r\n"
      ],
      "execution_count": null,
      "outputs": []
    },
    {
      "cell_type": "markdown",
      "metadata": {
        "id": "E0oO8UJqY3w1"
      },
      "source": [
        "## Pasando de Csv a Dataframe "
      ]
    },
    {
      "cell_type": "code",
      "metadata": {
        "colab": {
          "base_uri": "https://localhost:8080/",
          "height": 1000
        },
        "id": "ZEXd3u7UY929",
        "outputId": "ce3614a5-7ad4-459e-a783-b15f9c641215"
      },
      "source": [
        "dataframe_choco = pd.read_csv('dpto_choco.csv')\r\n",
        "dataframe_choco"
      ],
      "execution_count": null,
      "outputs": [
        {
          "output_type": "execute_result",
          "data": {
            "text/html": [
              "<div>\n",
              "<style scoped>\n",
              "    .dataframe tbody tr th:only-of-type {\n",
              "        vertical-align: middle;\n",
              "    }\n",
              "\n",
              "    .dataframe tbody tr th {\n",
              "        vertical-align: top;\n",
              "    }\n",
              "\n",
              "    .dataframe thead th {\n",
              "        text-align: right;\n",
              "    }\n",
              "</style>\n",
              "<table border=\"1\" class=\"dataframe\">\n",
              "  <thead>\n",
              "    <tr style=\"text-align: right;\">\n",
              "      <th></th>\n",
              "      <th>Municipios</th>\n",
              "      <th>Extensión  km²</th>\n",
              "    </tr>\n",
              "  </thead>\n",
              "  <tbody>\n",
              "    <tr>\n",
              "      <th>0</th>\n",
              "      <td>Acandí</td>\n",
              "      <td>869.0</td>\n",
              "    </tr>\n",
              "    <tr>\n",
              "      <th>1</th>\n",
              "      <td>Alto Baudó</td>\n",
              "      <td>1532.0</td>\n",
              "    </tr>\n",
              "    <tr>\n",
              "      <th>2</th>\n",
              "      <td>Atrato</td>\n",
              "      <td>415.0</td>\n",
              "    </tr>\n",
              "    <tr>\n",
              "      <th>3</th>\n",
              "      <td>Bagadó</td>\n",
              "      <td>770.0</td>\n",
              "    </tr>\n",
              "    <tr>\n",
              "      <th>4</th>\n",
              "      <td>Bahía Solano</td>\n",
              "      <td>976.0</td>\n",
              "    </tr>\n",
              "    <tr>\n",
              "      <th>5</th>\n",
              "      <td>Bajo Baudó</td>\n",
              "      <td>3630.0</td>\n",
              "    </tr>\n",
              "    <tr>\n",
              "      <th>6</th>\n",
              "      <td>Bojaya</td>\n",
              "      <td>3528.0</td>\n",
              "    </tr>\n",
              "    <tr>\n",
              "      <th>7</th>\n",
              "      <td>Canton De San Pablo</td>\n",
              "      <td>379.0</td>\n",
              "    </tr>\n",
              "    <tr>\n",
              "      <th>8</th>\n",
              "      <td>Carmén Del Darién</td>\n",
              "      <td>3197.0</td>\n",
              "    </tr>\n",
              "    <tr>\n",
              "      <th>9</th>\n",
              "      <td>Certegui</td>\n",
              "      <td>301.0</td>\n",
              "    </tr>\n",
              "    <tr>\n",
              "      <th>10</th>\n",
              "      <td>Condoto</td>\n",
              "      <td>626.0</td>\n",
              "    </tr>\n",
              "    <tr>\n",
              "      <th>11</th>\n",
              "      <td>El Carmen De Atrato</td>\n",
              "      <td>931.0</td>\n",
              "    </tr>\n",
              "    <tr>\n",
              "      <th>12</th>\n",
              "      <td>El Litoral Del San Juan</td>\n",
              "      <td>3356.0</td>\n",
              "    </tr>\n",
              "    <tr>\n",
              "      <th>13</th>\n",
              "      <td>Itsmina</td>\n",
              "      <td>2000.0</td>\n",
              "    </tr>\n",
              "    <tr>\n",
              "      <th>14</th>\n",
              "      <td>Juradó</td>\n",
              "      <td>1353.0</td>\n",
              "    </tr>\n",
              "    <tr>\n",
              "      <th>15</th>\n",
              "      <td>Lloró</td>\n",
              "      <td>841.0</td>\n",
              "    </tr>\n",
              "    <tr>\n",
              "      <th>16</th>\n",
              "      <td>Medio Atrato</td>\n",
              "      <td>1842.0</td>\n",
              "    </tr>\n",
              "    <tr>\n",
              "      <th>17</th>\n",
              "      <td>Medio Baudó</td>\n",
              "      <td>1836.0</td>\n",
              "    </tr>\n",
              "    <tr>\n",
              "      <th>18</th>\n",
              "      <td>Medio San Juan</td>\n",
              "      <td>620.0</td>\n",
              "    </tr>\n",
              "    <tr>\n",
              "      <th>19</th>\n",
              "      <td>Nóvita</td>\n",
              "      <td>1158.0</td>\n",
              "    </tr>\n",
              "    <tr>\n",
              "      <th>20</th>\n",
              "      <td>Nuquí</td>\n",
              "      <td>1033.0</td>\n",
              "    </tr>\n",
              "    <tr>\n",
              "      <th>21</th>\n",
              "      <td>Quibdó</td>\n",
              "      <td>3075.0</td>\n",
              "    </tr>\n",
              "    <tr>\n",
              "      <th>22</th>\n",
              "      <td>Río Iró</td>\n",
              "      <td>304.0</td>\n",
              "    </tr>\n",
              "    <tr>\n",
              "      <th>23</th>\n",
              "      <td>Rio Quito</td>\n",
              "      <td>700.0</td>\n",
              "    </tr>\n",
              "    <tr>\n",
              "      <th>24</th>\n",
              "      <td>Riosucio</td>\n",
              "      <td>7046.0</td>\n",
              "    </tr>\n",
              "    <tr>\n",
              "      <th>25</th>\n",
              "      <td>San José Del Palmar</td>\n",
              "      <td>940.0</td>\n",
              "    </tr>\n",
              "    <tr>\n",
              "      <th>26</th>\n",
              "      <td>Sipí</td>\n",
              "      <td>1242.0</td>\n",
              "    </tr>\n",
              "    <tr>\n",
              "      <th>27</th>\n",
              "      <td>Tadó</td>\n",
              "      <td>576.0</td>\n",
              "    </tr>\n",
              "    <tr>\n",
              "      <th>28</th>\n",
              "      <td>Unguía</td>\n",
              "      <td>1307.0</td>\n",
              "    </tr>\n",
              "    <tr>\n",
              "      <th>29</th>\n",
              "      <td>Union Panamericana</td>\n",
              "      <td>147.0</td>\n",
              "    </tr>\n",
              "    <tr>\n",
              "      <th>30</th>\n",
              "      <td>NaN</td>\n",
              "      <td>NaN</td>\n",
              "    </tr>\n",
              "  </tbody>\n",
              "</table>\n",
              "</div>"
            ],
            "text/plain": [
              "                Municipios   Extensión  km²\n",
              "0                    Acandí           869.0\n",
              "1                Alto Baudó          1532.0\n",
              "2                    Atrato           415.0\n",
              "3                    Bagadó           770.0\n",
              "4              Bahía Solano           976.0\n",
              "5                Bajo Baudó          3630.0\n",
              "6                    Bojaya          3528.0\n",
              "7       Canton De San Pablo           379.0\n",
              "8         Carmén Del Darién          3197.0\n",
              "9                  Certegui           301.0\n",
              "10                  Condoto           626.0\n",
              "11      El Carmen De Atrato           931.0\n",
              "12  El Litoral Del San Juan          3356.0\n",
              "13                  Itsmina          2000.0\n",
              "14                   Juradó          1353.0\n",
              "15                    Lloró           841.0\n",
              "16             Medio Atrato          1842.0\n",
              "17              Medio Baudó          1836.0\n",
              "18           Medio San Juan           620.0\n",
              "19                   Nóvita          1158.0\n",
              "20                    Nuquí          1033.0\n",
              "21                   Quibdó          3075.0\n",
              "22                  Río Iró           304.0\n",
              "23                Rio Quito           700.0\n",
              "24                 Riosucio          7046.0\n",
              "25      San José Del Palmar           940.0\n",
              "26                     Sipí          1242.0\n",
              "27                     Tadó           576.0\n",
              "28                   Unguía          1307.0\n",
              "29       Union Panamericana           147.0\n",
              "30                      NaN             NaN"
            ]
          },
          "metadata": {
            "tags": []
          },
          "execution_count": 3
        }
      ]
    },
    {
      "cell_type": "markdown",
      "metadata": {
        "id": "sNYUVqWLwsHZ"
      },
      "source": [
        "## De esta forma se puede realizar operaciones cuando nuestra base de datos contenga valores **NaN **."
      ]
    },
    {
      "cell_type": "code",
      "metadata": {
        "colab": {
          "base_uri": "https://localhost:8080/"
        },
        "id": "iy3NJehlvT12",
        "outputId": "a22a007c-c3f9-4404-fee2-200f46a991f1"
      },
      "source": [
        "choco_array = np.array(dataframe_choco)\r\n",
        "\r\n",
        "print(np.nanmax(choco_array[:, 1]))"
      ],
      "execution_count": null,
      "outputs": [
        {
          "output_type": "stream",
          "text": [
            "7046.0\n"
          ],
          "name": "stdout"
        }
      ]
    },
    {
      "cell_type": "markdown",
      "metadata": {
        "id": "4BhB7Dyes-az"
      },
      "source": [
        "## Eliminamos los NaN, los cuales corresponden a la asignacion de una fila adicional en la tabla, la cual no contiene en la base de datos original, ningun valor"
      ]
    },
    {
      "cell_type": "code",
      "metadata": {
        "id": "yp4O1jH5spKG"
      },
      "source": [
        "municipios_choco = dataframe_choco.dropna()"
      ],
      "execution_count": null,
      "outputs": []
    },
    {
      "cell_type": "markdown",
      "metadata": {
        "id": "TB8rvUPYlD4P"
      },
      "source": [
        "## Convertimos el dataframe en un un Array"
      ]
    },
    {
      "cell_type": "code",
      "metadata": {
        "id": "DSWjvbNYlMK6"
      },
      "source": [
        "array_municipio_choco = np.array(municipios_choco)"
      ],
      "execution_count": null,
      "outputs": []
    },
    {
      "cell_type": "markdown",
      "metadata": {
        "id": "Ig5VHVO6l4Mf"
      },
      "source": [
        "## Conozcamos el chocó a traves de algunos datos "
      ]
    },
    {
      "cell_type": "markdown",
      "metadata": {
        "id": "OUG8Ze6QnYQB"
      },
      "source": [
        "### Extensión total del Chocó"
      ]
    },
    {
      "cell_type": "code",
      "metadata": {
        "colab": {
          "base_uri": "https://localhost:8080/"
        },
        "id": "eNeqMSt3mBy5",
        "outputId": "15752085-b85e-4dde-923a-881d2cf54d78"
      },
      "source": [
        "tamaño_choco= np.sum(array_municipio_choco[:, 1])\r\n",
        "print('El Departamento del Chocó mide: ' + str(tamaño_choco) + ' km²')"
      ],
      "execution_count": null,
      "outputs": [
        {
          "output_type": "stream",
          "text": [
            "El Departamento del Chocó mide: 46530.0 km²\n"
          ],
          "name": "stdout"
        }
      ]
    },
    {
      "cell_type": "markdown",
      "metadata": {
        "id": "EUJq9LkBng8r"
      },
      "source": [
        "### Mediana "
      ]
    },
    {
      "cell_type": "code",
      "metadata": {
        "colab": {
          "base_uri": "https://localhost:8080/"
        },
        "id": "rfmkXcqjnWf3",
        "outputId": "fd1ed2f0-591f-46ec-b6e3-c13ce0d6c924"
      },
      "source": [
        "mediana_choco= np.round(np.median(array_municipio_choco[:,1]))\r\n",
        "print('La Mediana del tamaño de los municipios del Chocó ' + 'es: ' + str(mediana_choco) + ' km²')"
      ],
      "execution_count": null,
      "outputs": [
        {
          "output_type": "stream",
          "text": [
            "La Mediana del tamaño de los municipios del Chocó es: 1004.0 km²\n"
          ],
          "name": "stdout"
        }
      ]
    },
    {
      "cell_type": "markdown",
      "metadata": {
        "id": "u9CjvLgmoL9R"
      },
      "source": [
        "### Media"
      ]
    },
    {
      "cell_type": "code",
      "metadata": {
        "colab": {
          "base_uri": "https://localhost:8080/"
        },
        "id": "q35nHiwIoPWN",
        "outputId": "edaf4556-c0c7-4853-86aa-356973dbffd9"
      },
      "source": [
        "promedio_choco= np.mean(array_municipio_choco[:,1])\r\n",
        "print('El promedio del tamaño de los municipios del Chocó ' + 'es: ' + str(promedio_choco) + ' km²')"
      ],
      "execution_count": null,
      "outputs": [
        {
          "output_type": "stream",
          "text": [
            "El promedio del tamaño de los municipios del Chocó es: 1551.0 km²\n"
          ],
          "name": "stdout"
        }
      ]
    },
    {
      "cell_type": "markdown",
      "metadata": {
        "id": "u3O0zsADpqOX"
      },
      "source": [
        "Municipio con mayor extensión"
      ]
    },
    {
      "cell_type": "code",
      "metadata": {
        "colab": {
          "base_uri": "https://localhost:8080/"
        },
        "id": "Z-9b9yA3p-xJ",
        "outputId": "daa42528-7390-432d-afbb-2c4e6b475f8b"
      },
      "source": [
        "munic_ext_máxima = array_municipio_choco[:,1].max()\r\n",
        "print('El municipio con mayor extensión de tierra tiene: ' + str(munic_ext_máxima) + ' km²')"
      ],
      "execution_count": null,
      "outputs": [
        {
          "output_type": "stream",
          "text": [
            "El municipio con mayor extensión de tierra tiene: 7046.0 km²\n"
          ],
          "name": "stdout"
        }
      ]
    },
    {
      "cell_type": "markdown",
      "metadata": {
        "id": "Pp8zeL4BxSM4"
      },
      "source": [
        "## Municipio con menor extensión"
      ]
    },
    {
      "cell_type": "code",
      "metadata": {
        "id": "o6vZt77BpxfQ",
        "colab": {
          "base_uri": "https://localhost:8080/"
        },
        "outputId": "293e4c20-0eb2-4730-d2f1-66ba5de5c2c4"
      },
      "source": [
        "munic_ext_mínima = array_municipio_choco[:,1].min()\r\n",
        "print('El municipio con mayor extensión de tierra tiene: ' + str(munic_ext_mínima) + ' km²')"
      ],
      "execution_count": null,
      "outputs": [
        {
          "output_type": "stream",
          "text": [
            "El municipio con mayor extensión de tierra tiene: 147.0 km²\n"
          ],
          "name": "stdout"
        }
      ]
    },
    {
      "cell_type": "markdown",
      "metadata": {
        "id": "nrYXlIiny3Z-"
      },
      "source": [
        "# +Columnas a partir de bucles"
      ]
    },
    {
      "cell_type": "code",
      "metadata": {
        "colab": {
          "base_uri": "https://localhost:8080/",
          "height": 1000
        },
        "id": "bn-Talo9z_s4",
        "outputId": "48efb1fa-5d97-46e6-d584-b7a919f5c194"
      },
      "source": [
        "categoria_municipios= []\r\n",
        "\r\n",
        "for i,row in municipios_choco.iterrows():\r\n",
        "  if row['Extensión  km²'] < 1000:\r\n",
        "    categoria_municipios.append('Municipio Pequeño')\r\n",
        "  elif row['Extensión  km²'] >= 1000 and row['Extensión  km²'] <=2000:\r\n",
        "    categoria_municipios.append('Municipio Mediano')\r\n",
        "  else:\r\n",
        "    categoria_municipios.append('Municipio Grande')\r\n",
        "\r\n",
        "\r\n",
        "color_tamaño_municipios= []\r\n",
        "\r\n",
        "for i,row in municipios_choco.iterrows():\r\n",
        "  if row['Extensión  km²'] < 1000:\r\n",
        "    color_tamaño_municipios.append('lightgreen')\r\n",
        "  elif row['Extensión  km²'] >= 1000 and row['Extensión  km²'] <=2000:\r\n",
        "    color_tamaño_municipios.append('orange')\r\n",
        "  else:\r\n",
        "    color_tamaño_municipios.append('blue')\r\n",
        "\r\n",
        "municipios_choco['categoria_municipios'] = categoria_municipios\r\n",
        "municipios_choco['color_tamaño_municipios'] = color_tamaño_municipios\r\n",
        "\r\n",
        "municipios_choco"
      ],
      "execution_count": null,
      "outputs": [
        {
          "output_type": "stream",
          "text": [
            "/usr/local/lib/python3.6/dist-packages/ipykernel_launcher.py:22: SettingWithCopyWarning: \n",
            "A value is trying to be set on a copy of a slice from a DataFrame.\n",
            "Try using .loc[row_indexer,col_indexer] = value instead\n",
            "\n",
            "See the caveats in the documentation: https://pandas.pydata.org/pandas-docs/stable/user_guide/indexing.html#returning-a-view-versus-a-copy\n",
            "/usr/local/lib/python3.6/dist-packages/ipykernel_launcher.py:23: SettingWithCopyWarning: \n",
            "A value is trying to be set on a copy of a slice from a DataFrame.\n",
            "Try using .loc[row_indexer,col_indexer] = value instead\n",
            "\n",
            "See the caveats in the documentation: https://pandas.pydata.org/pandas-docs/stable/user_guide/indexing.html#returning-a-view-versus-a-copy\n"
          ],
          "name": "stderr"
        },
        {
          "output_type": "execute_result",
          "data": {
            "text/html": [
              "<div>\n",
              "<style scoped>\n",
              "    .dataframe tbody tr th:only-of-type {\n",
              "        vertical-align: middle;\n",
              "    }\n",
              "\n",
              "    .dataframe tbody tr th {\n",
              "        vertical-align: top;\n",
              "    }\n",
              "\n",
              "    .dataframe thead th {\n",
              "        text-align: right;\n",
              "    }\n",
              "</style>\n",
              "<table border=\"1\" class=\"dataframe\">\n",
              "  <thead>\n",
              "    <tr style=\"text-align: right;\">\n",
              "      <th></th>\n",
              "      <th>Municipios</th>\n",
              "      <th>Extensión  km²</th>\n",
              "      <th>categoria_municipios</th>\n",
              "      <th>color_tamaño_municipios</th>\n",
              "    </tr>\n",
              "  </thead>\n",
              "  <tbody>\n",
              "    <tr>\n",
              "      <th>0</th>\n",
              "      <td>Acandí</td>\n",
              "      <td>869.0</td>\n",
              "      <td>Municipio Pequeño</td>\n",
              "      <td>lightgreen</td>\n",
              "    </tr>\n",
              "    <tr>\n",
              "      <th>1</th>\n",
              "      <td>Alto Baudó</td>\n",
              "      <td>1532.0</td>\n",
              "      <td>Municipio Mediano</td>\n",
              "      <td>orange</td>\n",
              "    </tr>\n",
              "    <tr>\n",
              "      <th>2</th>\n",
              "      <td>Atrato</td>\n",
              "      <td>415.0</td>\n",
              "      <td>Municipio Pequeño</td>\n",
              "      <td>lightgreen</td>\n",
              "    </tr>\n",
              "    <tr>\n",
              "      <th>3</th>\n",
              "      <td>Bagadó</td>\n",
              "      <td>770.0</td>\n",
              "      <td>Municipio Pequeño</td>\n",
              "      <td>lightgreen</td>\n",
              "    </tr>\n",
              "    <tr>\n",
              "      <th>4</th>\n",
              "      <td>Bahía Solano</td>\n",
              "      <td>976.0</td>\n",
              "      <td>Municipio Pequeño</td>\n",
              "      <td>lightgreen</td>\n",
              "    </tr>\n",
              "    <tr>\n",
              "      <th>5</th>\n",
              "      <td>Bajo Baudó</td>\n",
              "      <td>3630.0</td>\n",
              "      <td>Municipio Grande</td>\n",
              "      <td>blue</td>\n",
              "    </tr>\n",
              "    <tr>\n",
              "      <th>6</th>\n",
              "      <td>Bojaya</td>\n",
              "      <td>3528.0</td>\n",
              "      <td>Municipio Grande</td>\n",
              "      <td>blue</td>\n",
              "    </tr>\n",
              "    <tr>\n",
              "      <th>7</th>\n",
              "      <td>Canton De San Pablo</td>\n",
              "      <td>379.0</td>\n",
              "      <td>Municipio Pequeño</td>\n",
              "      <td>lightgreen</td>\n",
              "    </tr>\n",
              "    <tr>\n",
              "      <th>8</th>\n",
              "      <td>Carmén Del Darién</td>\n",
              "      <td>3197.0</td>\n",
              "      <td>Municipio Grande</td>\n",
              "      <td>blue</td>\n",
              "    </tr>\n",
              "    <tr>\n",
              "      <th>9</th>\n",
              "      <td>Certegui</td>\n",
              "      <td>301.0</td>\n",
              "      <td>Municipio Pequeño</td>\n",
              "      <td>lightgreen</td>\n",
              "    </tr>\n",
              "    <tr>\n",
              "      <th>10</th>\n",
              "      <td>Condoto</td>\n",
              "      <td>626.0</td>\n",
              "      <td>Municipio Pequeño</td>\n",
              "      <td>lightgreen</td>\n",
              "    </tr>\n",
              "    <tr>\n",
              "      <th>11</th>\n",
              "      <td>El Carmen De Atrato</td>\n",
              "      <td>931.0</td>\n",
              "      <td>Municipio Pequeño</td>\n",
              "      <td>lightgreen</td>\n",
              "    </tr>\n",
              "    <tr>\n",
              "      <th>12</th>\n",
              "      <td>El Litoral Del San Juan</td>\n",
              "      <td>3356.0</td>\n",
              "      <td>Municipio Grande</td>\n",
              "      <td>blue</td>\n",
              "    </tr>\n",
              "    <tr>\n",
              "      <th>13</th>\n",
              "      <td>Itsmina</td>\n",
              "      <td>2000.0</td>\n",
              "      <td>Municipio Mediano</td>\n",
              "      <td>orange</td>\n",
              "    </tr>\n",
              "    <tr>\n",
              "      <th>14</th>\n",
              "      <td>Juradó</td>\n",
              "      <td>1353.0</td>\n",
              "      <td>Municipio Mediano</td>\n",
              "      <td>orange</td>\n",
              "    </tr>\n",
              "    <tr>\n",
              "      <th>15</th>\n",
              "      <td>Lloró</td>\n",
              "      <td>841.0</td>\n",
              "      <td>Municipio Pequeño</td>\n",
              "      <td>lightgreen</td>\n",
              "    </tr>\n",
              "    <tr>\n",
              "      <th>16</th>\n",
              "      <td>Medio Atrato</td>\n",
              "      <td>1842.0</td>\n",
              "      <td>Municipio Mediano</td>\n",
              "      <td>orange</td>\n",
              "    </tr>\n",
              "    <tr>\n",
              "      <th>17</th>\n",
              "      <td>Medio Baudó</td>\n",
              "      <td>1836.0</td>\n",
              "      <td>Municipio Mediano</td>\n",
              "      <td>orange</td>\n",
              "    </tr>\n",
              "    <tr>\n",
              "      <th>18</th>\n",
              "      <td>Medio San Juan</td>\n",
              "      <td>620.0</td>\n",
              "      <td>Municipio Pequeño</td>\n",
              "      <td>lightgreen</td>\n",
              "    </tr>\n",
              "    <tr>\n",
              "      <th>19</th>\n",
              "      <td>Nóvita</td>\n",
              "      <td>1158.0</td>\n",
              "      <td>Municipio Mediano</td>\n",
              "      <td>orange</td>\n",
              "    </tr>\n",
              "    <tr>\n",
              "      <th>20</th>\n",
              "      <td>Nuquí</td>\n",
              "      <td>1033.0</td>\n",
              "      <td>Municipio Mediano</td>\n",
              "      <td>orange</td>\n",
              "    </tr>\n",
              "    <tr>\n",
              "      <th>21</th>\n",
              "      <td>Quibdó</td>\n",
              "      <td>3075.0</td>\n",
              "      <td>Municipio Grande</td>\n",
              "      <td>blue</td>\n",
              "    </tr>\n",
              "    <tr>\n",
              "      <th>22</th>\n",
              "      <td>Río Iró</td>\n",
              "      <td>304.0</td>\n",
              "      <td>Municipio Pequeño</td>\n",
              "      <td>lightgreen</td>\n",
              "    </tr>\n",
              "    <tr>\n",
              "      <th>23</th>\n",
              "      <td>Rio Quito</td>\n",
              "      <td>700.0</td>\n",
              "      <td>Municipio Pequeño</td>\n",
              "      <td>lightgreen</td>\n",
              "    </tr>\n",
              "    <tr>\n",
              "      <th>24</th>\n",
              "      <td>Riosucio</td>\n",
              "      <td>7046.0</td>\n",
              "      <td>Municipio Grande</td>\n",
              "      <td>blue</td>\n",
              "    </tr>\n",
              "    <tr>\n",
              "      <th>25</th>\n",
              "      <td>San José Del Palmar</td>\n",
              "      <td>940.0</td>\n",
              "      <td>Municipio Pequeño</td>\n",
              "      <td>lightgreen</td>\n",
              "    </tr>\n",
              "    <tr>\n",
              "      <th>26</th>\n",
              "      <td>Sipí</td>\n",
              "      <td>1242.0</td>\n",
              "      <td>Municipio Mediano</td>\n",
              "      <td>orange</td>\n",
              "    </tr>\n",
              "    <tr>\n",
              "      <th>27</th>\n",
              "      <td>Tadó</td>\n",
              "      <td>576.0</td>\n",
              "      <td>Municipio Pequeño</td>\n",
              "      <td>lightgreen</td>\n",
              "    </tr>\n",
              "    <tr>\n",
              "      <th>28</th>\n",
              "      <td>Unguía</td>\n",
              "      <td>1307.0</td>\n",
              "      <td>Municipio Mediano</td>\n",
              "      <td>orange</td>\n",
              "    </tr>\n",
              "    <tr>\n",
              "      <th>29</th>\n",
              "      <td>Union Panamericana</td>\n",
              "      <td>147.0</td>\n",
              "      <td>Municipio Pequeño</td>\n",
              "      <td>lightgreen</td>\n",
              "    </tr>\n",
              "  </tbody>\n",
              "</table>\n",
              "</div>"
            ],
            "text/plain": [
              "                Municipios   ...  color_tamaño_municipios\n",
              "0                    Acandí  ...               lightgreen\n",
              "1                Alto Baudó  ...                   orange\n",
              "2                    Atrato  ...               lightgreen\n",
              "3                    Bagadó  ...               lightgreen\n",
              "4              Bahía Solano  ...               lightgreen\n",
              "5                Bajo Baudó  ...                     blue\n",
              "6                    Bojaya  ...                     blue\n",
              "7       Canton De San Pablo  ...               lightgreen\n",
              "8         Carmén Del Darién  ...                     blue\n",
              "9                  Certegui  ...               lightgreen\n",
              "10                  Condoto  ...               lightgreen\n",
              "11      El Carmen De Atrato  ...               lightgreen\n",
              "12  El Litoral Del San Juan  ...                     blue\n",
              "13                  Itsmina  ...                   orange\n",
              "14                   Juradó  ...                   orange\n",
              "15                    Lloró  ...               lightgreen\n",
              "16             Medio Atrato  ...                   orange\n",
              "17              Medio Baudó  ...                   orange\n",
              "18           Medio San Juan  ...               lightgreen\n",
              "19                   Nóvita  ...                   orange\n",
              "20                    Nuquí  ...                   orange\n",
              "21                   Quibdó  ...                     blue\n",
              "22                  Río Iró  ...               lightgreen\n",
              "23                Rio Quito  ...               lightgreen\n",
              "24                 Riosucio  ...                     blue\n",
              "25      San José Del Palmar  ...               lightgreen\n",
              "26                     Sipí  ...                   orange\n",
              "27                     Tadó  ...               lightgreen\n",
              "28                   Unguía  ...                   orange\n",
              "29       Union Panamericana  ...               lightgreen\n",
              "\n",
              "[30 rows x 4 columns]"
            ]
          },
          "metadata": {
            "tags": []
          },
          "execution_count": 27
        }
      ]
    },
    {
      "cell_type": "markdown",
      "metadata": {
        "id": "UmL1q_PbyRe7"
      },
      "source": [
        "# Grafiquemos"
      ]
    },
    {
      "cell_type": "code",
      "metadata": {
        "colab": {
          "base_uri": "https://localhost:8080/",
          "height": 422
        },
        "id": "bPwyIZQiyXgh",
        "outputId": "b229968c-8190-44b0-f47f-46638f13bb31"
      },
      "source": [
        "plt.scatter(municipios_choco['Municipios '], municipios_choco['Extensión  km²'],\r\n",
        "            c=color_tamaño_municipios, s=municipios_choco['Extensión  km²'])\r\n",
        "plt.xticks(rotation=90)\r\n",
        "plt.grid()\r\n",
        "plt.xlabel('Municipios', fontsize=15)\r\n",
        "plt.ylabel('Extensión (km²)', fontsize=15)\r\n",
        "plt.title('Tamaño de los municipios del Dpto del Chocó', fontsize=18)\r\n",
        "plt.text(21, 5300, 'Riosucio', fontsize= 14)\r\n",
        "plt.text(21, 1800, 'Quibdó', fontsize= 14)\r\n",
        "plt.text(9, 4500, 'Litoral Del San Juan', fontsize= 14)\r\n",
        "plt.text(1, 4800, 'Bajo Baudó', fontsize= 14)\r\n",
        "plt.text(5, 1900, 'Bojayá', fontsize= 14)\r\n",
        "plt.text(25, 400, 'Unión P.', fontsize= 14)\r\n",
        "\r\n"
      ],
      "execution_count": null,
      "outputs": [
        {
          "output_type": "execute_result",
          "data": {
            "text/plain": [
              "Text(25, 400, 'Unión P.')"
            ]
          },
          "metadata": {
            "tags": []
          },
          "execution_count": 72
        },
        {
          "output_type": "display_data",
          "data": {
            "image/png": "[encoded data removed]",
            "text/plain": [
              "<Figure size 432x288 with 1 Axes>"
            ]
          },
          "metadata": {
            "tags": [],
            "needs_background": "light"
          }
        }
      ]
    },
    {
      "cell_type": "markdown",
      "metadata": {
        "id": "fblJxk_PE0lP"
      },
      "source": [
        "## Municipios actores del conflicto limítrofe "
      ]
    },
    {
      "cell_type": "code",
      "metadata": {
        "colab": {
          "base_uri": "https://localhost:8080/"
        },
        "id": "EA0KS4rfHpwB",
        "outputId": "1e9dcdca-6bc8-47f7-c346-e7962c502002"
      },
      "source": [
        "print(dataframe_subregiones.iloc[73, [0,1]])"
      ],
      "execution_count": null,
      "outputs": [
        {
          "output_type": "stream",
          "text": [
            "municipios        Mutatá\n",
            "Extensión  km²      1106\n",
            "Name: 73, dtype: object\n"
          ],
          "name": "stdout"
        }
      ]
    },
    {
      "cell_type": "code",
      "metadata": {
        "id": "UmxUXYrgVQL1",
        "colab": {
          "base_uri": "https://localhost:8080/"
        },
        "outputId": "ac081b37-ed71-4bfe-8940-9c00b4d863dc"
      },
      "source": [
        "print(municipios_choco.iloc[24, [0,1]])"
      ],
      "execution_count": null,
      "outputs": [
        {
          "output_type": "stream",
          "text": [
            "Municipios        Riosucio\n",
            "Extensión  km²        7046\n",
            "Name: 24, dtype: object\n"
          ],
          "name": "stdout"
        }
      ]
    },
    {
      "cell_type": "markdown",
      "metadata": {
        "id": "vrhcfU0wRNxA"
      },
      "source": [
        "## Extensión Departamental **con y sin** Belen de Bajirá"
      ]
    },
    {
      "cell_type": "markdown",
      "metadata": {
        "id": "r_DKiSfOXYv9"
      },
      "source": [
        "## **Datos sin Belen de Bajira**"
      ]
    },
    {
      "cell_type": "code",
      "metadata": {
        "id": "ohmd-oXyRgDW"
      },
      "source": [
        "municipio_mutata = 1106\r\n",
        "municipio_riosucio = 5031\r\n",
        "belen_de_bajira = 2015\r\n",
        "dpto_choco = 44515\r\n",
        "dpto_antioquia = 63612"
      ],
      "execution_count": null,
      "outputs": []
    },
    {
      "cell_type": "markdown",
      "metadata": {
        "id": "BbRDnsDmVYtW"
      },
      "source": [
        "## **Antioquia**"
      ]
    },
    {
      "cell_type": "code",
      "metadata": {
        "colab": {
          "base_uri": "https://localhost:8080/"
        },
        "id": "JiRmfEVjSdUM",
        "outputId": "8ace7d13-f7d9-4724-ceff-5a2de67abb3d"
      },
      "source": [
        "mutata_con_belen_de_bajira = municipio_mutata + Belen_De_Bajira\r\n",
        "print('El Municipio de Mutatá contaba con una extension de: ' + str(mutata_con_belen_de_bajira) + \r\n",
        "      ' km² ' + 'cuando Belén De Bajirá estaba en su jurisdicción')"
      ],
      "execution_count": null,
      "outputs": [
        {
          "output_type": "stream",
          "text": [
            "El Municipio de Mutatá contaba con una extension de: 3121 km² cuando Belén De Bajirá  estaba en su jurisdicción\n"
          ],
          "name": "stdout"
        }
      ]
    },
    {
      "cell_type": "code",
      "metadata": {
        "colab": {
          "base_uri": "https://localhost:8080/"
        },
        "id": "0N4gxkPZTXjk",
        "outputId": "4741e170-cc10-4a57-b17a-d0736a9c99f0"
      },
      "source": [
        "antioquia_con_belen_de_bajira = dpto_antioquia + belen_de_bajira\r\n",
        "print('El Dpto de Antioquia contaba con una extension de: ' + str(antioquia_con_belen_de_bajira) + \r\n",
        "      ' km² ' + 'cuando Belén De Bajirá estaba en su jurisdicción')"
      ],
      "execution_count": null,
      "outputs": [
        {
          "output_type": "stream",
          "text": [
            "El Dpto de Antioquia contaba con una extension de: 65627 km² cuando Belén De Bajirá estaba en su jurisdicción\n"
          ],
          "name": "stdout"
        }
      ]
    },
    {
      "cell_type": "markdown",
      "metadata": {
        "id": "7yjSJmEKVTAZ"
      },
      "source": [
        "## **Chocó**"
      ]
    },
    {
      "cell_type": "code",
      "metadata": {
        "colab": {
          "base_uri": "https://localhost:8080/"
        },
        "id": "QQeZNrYlU_zg",
        "outputId": "1721de4c-e644-4f17-fa5c-e9fb079ace85"
      },
      "source": [
        "riosucio_con_belen_de_bajira = municipio_riosucio + Belen_De_Bajira\r\n",
        "print('El Municipio de Riosucio tiene una extension de: ' + str(riosucio_con_belen_de_bajira) + \r\n",
        "      ' km² ' + 'cuando Belén De Bajirá paso a su jurisdicción')"
      ],
      "execution_count": null,
      "outputs": [
        {
          "output_type": "stream",
          "text": [
            "El Municipio de Riosucio tiene una extension de: 7046 km² cuando Belén De Bajirá paso a su jurisdicción\n"
          ],
          "name": "stdout"
        }
      ]
    },
    {
      "cell_type": "code",
      "metadata": {
        "colab": {
          "base_uri": "https://localhost:8080/"
        },
        "id": "vBW3ofLbVRJw",
        "outputId": "0fd32ecc-77fc-4a8b-a8b9-1b7e03fec4a6"
      },
      "source": [
        "choco_con_belen_de_bajira = dpto_choco + belen_de_bajira\r\n",
        "print('El Dpto del Chocó tiene una extension de: ' + str(choco_con_belen_de_bajira) + \r\n",
        "      ' km² ' + 'cuando Belén De Bajirá paso a su jurisdicción')"
      ],
      "execution_count": null,
      "outputs": [
        {
          "output_type": "stream",
          "text": [
            "El Dpto del Chocó tiene una extension de: 46530 km² cuando Belén De Bajirá paso a su jurisdicción\n"
          ],
          "name": "stdout"
        }
      ]
    },
    {
      "cell_type": "markdown",
      "metadata": {
        "id": "2zIfawDVM29r"
      },
      "source": [
        "##Diccionarios"
      ]
    },
    {
      "cell_type": "markdown",
      "metadata": {
        "id": "8thhqyn6Q8Jm"
      },
      "source": [
        "**Antioquia**"
      ]
    },
    {
      "cell_type": "code",
      "metadata": {
        "colab": {
          "base_uri": "https://localhost:8080/"
        },
        "id": "KNa1co4mLavC",
        "outputId": "c21a76c0-5466-4ee4-ab22-6b9843b86ef4"
      },
      "source": [
        "mutata_Antioquia = {'Corregimiento_01': 'Bejuquillo', 'Corregimiento_02': 'Pavarando Grande', \r\n",
        "                    'Corregimiento_03' : 'Belén De Bajirá', 'Corregimiento_04' : 'Pavarandocito'}\r\n",
        "print(mutata_Antioquia)                   "
      ],
      "execution_count": null,
      "outputs": [
        {
          "output_type": "stream",
          "text": [
            "{'Corregimiento_01': 'Bejuquillo', 'Corregimiento_02': 'Pavarando Grande', 'Corregimiento_03': 'Belén De Bajirá', 'Corregimiento_04': 'Pavarandocito'}\n"
          ],
          "name": "stdout"
        }
      ]
    },
    {
      "cell_type": "markdown",
      "metadata": {
        "id": "_KtV-QdqdmWb"
      },
      "source": [
        "### **Eliminando a Belen de Bajira de Antioquia **"
      ]
    },
    {
      "cell_type": "code",
      "metadata": {
        "colab": {
          "base_uri": "https://localhost:8080/"
        },
        "id": "lmc1NahBb0Ei",
        "outputId": "b5eb8be2-d21c-4dcc-e3c3-358c4a39b385"
      },
      "source": [
        "del mutata_Antioquia['Corregimiento_03']\r\n",
        "print(mutata_Antioquia)"
      ],
      "execution_count": null,
      "outputs": [
        {
          "output_type": "stream",
          "text": [
            "{'Corregimiento_01': 'Bejuquillo', 'Corregimiento_02': 'Pavarando Grande', 'Corregimiento_04': 'Pavarandocito'}\n"
          ],
          "name": "stdout"
        }
      ]
    },
    {
      "cell_type": "markdown",
      "metadata": {
        "id": "gi7T-hbjREcW"
      },
      "source": [
        "**Chocó**"
      ]
    },
    {
      "cell_type": "code",
      "metadata": {
        "colab": {
          "base_uri": "https://localhost:8080/"
        },
        "id": "VXDiFzRyQfVG",
        "outputId": "7c656dd3-bd81-4088-8c1e-9ae651b07329"
      },
      "source": [
        "riosucio_Chocó = {'Corregimiento_01' : 'Blanquicet', 'Corregimiento_02' : 'Nuevo Oriente',\r\n",
        "                  'Corregimiento_03' : 'Macondo'}\r\n",
        "print(riosucio_Chocó)   "
      ],
      "execution_count": null,
      "outputs": [
        {
          "output_type": "stream",
          "text": [
            "{'Corregimiento_01': 'Blanquicet', 'Corregimiento_02': 'Nuevo Oriente', 'Corregimiento_03': 'Macondo'}\n"
          ],
          "name": "stdout"
        }
      ]
    },
    {
      "cell_type": "markdown",
      "metadata": {
        "id": "IGqQu1tkeUSC"
      },
      "source": [
        "**### Agregando Belen de Bajira al Chocó**"
      ]
    },
    {
      "cell_type": "code",
      "metadata": {
        "colab": {
          "base_uri": "https://localhost:8080/"
        },
        "id": "ivYu1gC7dkTP",
        "outputId": "d4772319-bd43-4990-86aa-df1f9c3106ec"
      },
      "source": [
        "riosucio_Chocó['Corregimiento_04']='Belén De Bajirá'\r\n",
        "print(riosucio_Chocó)"
      ],
      "execution_count": null,
      "outputs": [
        {
          "output_type": "stream",
          "text": [
            "{'Corregimiento_01': 'Blanquicet', 'Corregimiento_02': 'Nuevo Oriente', 'Corregimiento_03': 'Macondo', 'Corregimiento_04': 'Belén De Bajirá'}\n"
          ],
          "name": "stdout"
        }
      ]
    },
    {
      "cell_type": "code",
      "metadata": {
        "id": "5ETH0swLWl9p"
      },
      "source": [
        "print(dataf)"
      ],
      "execution_count": null,
      "outputs": []
    }
  ]
}