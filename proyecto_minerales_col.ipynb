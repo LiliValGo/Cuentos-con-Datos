{
  "nbformat": 4,
  "nbformat_minor": 0,
  "metadata": {
    "colab": {
      "name": "proyecto_minerales_col.ipynb",
      "provenance": [],
      "collapsed_sections": [],
      "include_colab_link": true
    },
    "kernelspec": {
      "name": "python3",
      "display_name": "Python 3"
    },
    "language_info": {
      "name": "python"
    }
  },
  "cells": [
    {
      "cell_type": "markdown",
      "metadata": {
        "id": "view-in-github",
        "colab_type": "text"
      },
      "source": [
        "<a href=\"https://colab.research.google.com/github/LiliValGo/Cuentos_Con_Datos/blob/master/proyecto_minerales_col.ipynb\" target=\"_parent\"><img src=\"https://colab.research.google.com/assets/colab-badge.svg\" alt=\"Open In Colab\"/></a>"
      ]
    },
    {
      "cell_type": "markdown",
      "metadata": {
        "id": "NmuHiNoNWJuR"
      },
      "source": [
        "# **OBJETIVO:** \n",
        "## Analizar la producción de carbon y su generación de activos economicos al estado colombiano mediante regalias y compensaciones en los próximos años?"
      ]
    },
    {
      "cell_type": "markdown",
      "metadata": {
        "id": "Knm72lk8XV7P"
      },
      "source": [
        "## Conectando Colab con nuestro drive "
      ]
    },
    {
      "cell_type": "code",
      "metadata": {
        "id": "lMe9sJ-gVBmb",
        "colab": {
          "base_uri": "https://localhost:8080/"
        },
        "outputId": "ba32060d-133a-4516-9f32-545634c926aa"
      },
      "source": [
        "from google.colab import drive\n",
        "\n",
        "drive.mount('/content/drive')"
      ],
      "execution_count": 1,
      "outputs": [
        {
          "output_type": "stream",
          "text": [
            "Mounted at /content/drive\n"
          ],
          "name": "stdout"
        }
      ]
    },
    {
      "cell_type": "markdown",
      "metadata": {
        "id": "3nq63HhGXm0L"
      },
      "source": [
        "## Importando paquetes y librerias "
      ]
    },
    {
      "cell_type": "code",
      "metadata": {
        "id": "ZBy30PseVmy0"
      },
      "source": [
        "import pandas as pd\n",
        "import matplotlib.pyplot as plt\n",
        "import seaborn as sns\n",
        "import numpy as np\n"
      ],
      "execution_count": 2,
      "outputs": []
    },
    {
      "cell_type": "markdown",
      "metadata": {
        "id": "HeW3hSulYFPN"
      },
      "source": [
        "## Importando y leyendo dataset de producción de Carbón "
      ]
    },
    {
      "cell_type": "code",
      "metadata": {
        "colab": {
          "base_uri": "https://localhost:8080/",
          "height": 630
        },
        "id": "8dDWQyTaVpmN",
        "outputId": "be57cd81-3567-4ae7-82c3-97de402abcbb"
      },
      "source": [
        "df_produc_carbon = pd.read_csv('/content/drive/MyDrive/Colab Notebooks/expo_minerales_col/produccion_carbon_col.csv')\n",
        "df_produc_carbon"
      ],
      "execution_count": 3,
      "outputs": [
        {
          "output_type": "execute_result",
          "data": {
            "text/html": [
              "<div>\n",
              "<style scoped>\n",
              "    .dataframe tbody tr th:only-of-type {\n",
              "        vertical-align: middle;\n",
              "    }\n",
              "\n",
              "    .dataframe tbody tr th {\n",
              "        vertical-align: top;\n",
              "    }\n",
              "\n",
              "    .dataframe thead th {\n",
              "        text-align: right;\n",
              "    }\n",
              "</style>\n",
              "<table border=\"1\" class=\"dataframe\">\n",
              "  <thead>\n",
              "    <tr style=\"text-align: right;\">\n",
              "      <th></th>\n",
              "      <th>Codigo DANE</th>\n",
              "      <th>Municipio Productor</th>\n",
              "      <th>Departamento</th>\n",
              "      <th>Recurso Natural</th>\n",
              "      <th>Nombre Del Proyecto</th>\n",
              "      <th>Año Produccion</th>\n",
              "      <th>Trimestre</th>\n",
              "      <th>Unidad Medida</th>\n",
              "      <th>Tipo Contraprestacion</th>\n",
              "      <th>Valor Contraprestacion</th>\n",
              "      <th>Cantidad Producción</th>\n",
              "    </tr>\n",
              "  </thead>\n",
              "  <tbody>\n",
              "    <tr>\n",
              "      <th>0</th>\n",
              "      <td>5030</td>\n",
              "      <td>Amaga</td>\n",
              "      <td>Antioquia</td>\n",
              "      <td>CARBON</td>\n",
              "      <td>PRODUCTORES</td>\n",
              "      <td>2019</td>\n",
              "      <td>Trimestre 1</td>\n",
              "      <td>TONELADAS</td>\n",
              "      <td>REGALIA</td>\n",
              "      <td>29113583.0</td>\n",
              "      <td>4069</td>\n",
              "    </tr>\n",
              "    <tr>\n",
              "      <th>1</th>\n",
              "      <td>5030</td>\n",
              "      <td>Amaga</td>\n",
              "      <td>Antioquia</td>\n",
              "      <td>CARBON</td>\n",
              "      <td>PRODUCTORES</td>\n",
              "      <td>2012</td>\n",
              "      <td>Trimestre 1</td>\n",
              "      <td>TONELADAS</td>\n",
              "      <td>REGALIA</td>\n",
              "      <td>122838878.0</td>\n",
              "      <td>23309</td>\n",
              "    </tr>\n",
              "    <tr>\n",
              "      <th>2</th>\n",
              "      <td>5030</td>\n",
              "      <td>Amaga</td>\n",
              "      <td>Antioquia</td>\n",
              "      <td>CARBON</td>\n",
              "      <td>PRODUCTORES</td>\n",
              "      <td>2013</td>\n",
              "      <td>Trimestre 1</td>\n",
              "      <td>TONELADAS</td>\n",
              "      <td>REGALIA</td>\n",
              "      <td>119808689.0</td>\n",
              "      <td>28008</td>\n",
              "    </tr>\n",
              "    <tr>\n",
              "      <th>3</th>\n",
              "      <td>5030</td>\n",
              "      <td>Amaga</td>\n",
              "      <td>Antioquia</td>\n",
              "      <td>CARBON</td>\n",
              "      <td>PRODUCTORES</td>\n",
              "      <td>2014</td>\n",
              "      <td>Trimestre 1</td>\n",
              "      <td>TONELADAS</td>\n",
              "      <td>REGALIA</td>\n",
              "      <td>165165382.0</td>\n",
              "      <td>42968</td>\n",
              "    </tr>\n",
              "    <tr>\n",
              "      <th>4</th>\n",
              "      <td>5030</td>\n",
              "      <td>Amaga</td>\n",
              "      <td>Antioquia</td>\n",
              "      <td>CARBON</td>\n",
              "      <td>PRODUCTORES</td>\n",
              "      <td>2015</td>\n",
              "      <td>Trimestre 1</td>\n",
              "      <td>TONELADAS</td>\n",
              "      <td>REGALIA</td>\n",
              "      <td>73748476.0</td>\n",
              "      <td>17773</td>\n",
              "    </tr>\n",
              "    <tr>\n",
              "      <th>...</th>\n",
              "      <td>...</td>\n",
              "      <td>...</td>\n",
              "      <td>...</td>\n",
              "      <td>...</td>\n",
              "      <td>...</td>\n",
              "      <td>...</td>\n",
              "      <td>...</td>\n",
              "      <td>...</td>\n",
              "      <td>...</td>\n",
              "      <td>...</td>\n",
              "      <td>...</td>\n",
              "    </tr>\n",
              "    <tr>\n",
              "      <th>4580</th>\n",
              "      <td>85279</td>\n",
              "      <td>Recetor</td>\n",
              "      <td>Casanare</td>\n",
              "      <td>CARBON</td>\n",
              "      <td>PRODUCTORES</td>\n",
              "      <td>2014</td>\n",
              "      <td>Trimestre 4</td>\n",
              "      <td>TONELADAS</td>\n",
              "      <td>REGALIA</td>\n",
              "      <td>13576690.0</td>\n",
              "      <td>3152</td>\n",
              "    </tr>\n",
              "    <tr>\n",
              "      <th>4581</th>\n",
              "      <td>85279</td>\n",
              "      <td>Recetor</td>\n",
              "      <td>Casanare</td>\n",
              "      <td>CARBON</td>\n",
              "      <td>PRODUCTORES</td>\n",
              "      <td>2015</td>\n",
              "      <td>Trimestre 4</td>\n",
              "      <td>TONELADAS</td>\n",
              "      <td>REGALIA</td>\n",
              "      <td>10570854.0</td>\n",
              "      <td>2444</td>\n",
              "    </tr>\n",
              "    <tr>\n",
              "      <th>4582</th>\n",
              "      <td>85279</td>\n",
              "      <td>Recetor</td>\n",
              "      <td>Casanare</td>\n",
              "      <td>CARBON</td>\n",
              "      <td>PRODUCTORES</td>\n",
              "      <td>2016</td>\n",
              "      <td>Trimestre 4</td>\n",
              "      <td>TONELADAS</td>\n",
              "      <td>REGALIA</td>\n",
              "      <td>3095489.0</td>\n",
              "      <td>620</td>\n",
              "    </tr>\n",
              "    <tr>\n",
              "      <th>4583</th>\n",
              "      <td>85279</td>\n",
              "      <td>Recetor</td>\n",
              "      <td>Casanare</td>\n",
              "      <td>CARBON</td>\n",
              "      <td>PRODUCTORES</td>\n",
              "      <td>2017</td>\n",
              "      <td>Trimestre 4</td>\n",
              "      <td>TONELADAS</td>\n",
              "      <td>REGALIA</td>\n",
              "      <td>280547.0</td>\n",
              "      <td>26</td>\n",
              "    </tr>\n",
              "    <tr>\n",
              "      <th>4584</th>\n",
              "      <td>85279</td>\n",
              "      <td>Recetor</td>\n",
              "      <td>Casanare</td>\n",
              "      <td>CARBON</td>\n",
              "      <td>PRODUCTORES</td>\n",
              "      <td>2018</td>\n",
              "      <td>Trimestre 4</td>\n",
              "      <td>TONELADAS</td>\n",
              "      <td>REGALIA</td>\n",
              "      <td>17856958.0</td>\n",
              "      <td>1399</td>\n",
              "    </tr>\n",
              "  </tbody>\n",
              "</table>\n",
              "<p>4585 rows × 11 columns</p>\n",
              "</div>"
            ],
            "text/plain": [
              "      Codigo DANE  ... Cantidad Producción\n",
              "0            5030  ...                4069\n",
              "1            5030  ...               23309\n",
              "2            5030  ...               28008\n",
              "3            5030  ...               42968\n",
              "4            5030  ...               17773\n",
              "...           ...  ...                 ...\n",
              "4580        85279  ...                3152\n",
              "4581        85279  ...                2444\n",
              "4582        85279  ...                 620\n",
              "4583        85279  ...                  26\n",
              "4584        85279  ...                1399\n",
              "\n",
              "[4585 rows x 11 columns]"
            ]
          },
          "metadata": {
            "tags": []
          },
          "execution_count": 3
        }
      ]
    },
    {
      "cell_type": "markdown",
      "metadata": {
        "id": "rYuRjTMuPHnM"
      },
      "source": [
        "# Exploración del DataFrame "
      ]
    },
    {
      "cell_type": "code",
      "metadata": {
        "colab": {
          "base_uri": "https://localhost:8080/"
        },
        "id": "KWkbFOrHHHq8",
        "outputId": "864e4945-4380-4449-caef-87c24534dbfe"
      },
      "source": [
        "df_produc_carbon.info()"
      ],
      "execution_count": 4,
      "outputs": [
        {
          "output_type": "stream",
          "text": [
            "<class 'pandas.core.frame.DataFrame'>\n",
            "RangeIndex: 4585 entries, 0 to 4584\n",
            "Data columns (total 11 columns):\n",
            " #   Column                   Non-Null Count  Dtype  \n",
            "---  ------                   --------------  -----  \n",
            " 0   Codigo DANE              4585 non-null   int64  \n",
            " 1   Municipio Productor      4585 non-null   object \n",
            " 2   Departamento             4585 non-null   object \n",
            " 3   Recurso Natural          4585 non-null   object \n",
            " 4   Nombre Del Proyecto      4585 non-null   object \n",
            " 5   Año Produccion           4585 non-null   int64  \n",
            " 6   Trimestre                4585 non-null   object \n",
            " 7   Unidad Medida            4585 non-null   object \n",
            " 8   Tipo Contraprestacion    4585 non-null   object \n",
            " 9   Valor Contraprestacion   4585 non-null   float64\n",
            " 10  Cantidad Producción      4585 non-null   int64  \n",
            "dtypes: float64(1), int64(3), object(7)\n",
            "memory usage: 394.1+ KB\n"
          ],
          "name": "stdout"
        }
      ]
    },
    {
      "cell_type": "markdown",
      "metadata": {
        "id": "cAOenM2WPNQY"
      },
      "source": [
        "# Editando estructura del DataFrame "
      ]
    },
    {
      "cell_type": "markdown",
      "metadata": {
        "id": "3zWEVpxrWlDV"
      },
      "source": [
        "### Editando nombre de las columnas"
      ]
    },
    {
      "cell_type": "code",
      "metadata": {
        "id": "Lah17FH8PS7d",
        "colab": {
          "base_uri": "https://localhost:8080/"
        },
        "outputId": "41bcfec4-58c3-4626-cf59-d80c316df2fb"
      },
      "source": [
        "df_produc_carbon.columns = ['Id_DANE', 'Municipio', 'Departamento', 'Mineral', 'Nombre_Proyecto', 'Año_Produccion', 'Trimestre', 'Unid_Medida', 'Tipo_Contraprestacion', 'Valor_Regalias', 'Cantidad_Produccion']\n",
        "print(df_produc_carbon.head())"
      ],
      "execution_count": 5,
      "outputs": [
        {
          "output_type": "stream",
          "text": [
            "   Id_DANE Municipio  ... Valor_Regalias Cantidad_Produccion\n",
            "0     5030     Amaga  ...     29113583.0                4069\n",
            "1     5030     Amaga  ...    122838878.0               23309\n",
            "2     5030     Amaga  ...    119808689.0               28008\n",
            "3     5030     Amaga  ...    165165382.0               42968\n",
            "4     5030     Amaga  ...     73748476.0               17773\n",
            "\n",
            "[5 rows x 11 columns]\n"
          ],
          "name": "stdout"
        }
      ]
    },
    {
      "cell_type": "markdown",
      "metadata": {
        "id": "JP_kwU6FWwCI"
      },
      "source": [
        "### Editando valores de la columna: 'Municipio'\n",
        "\n",
        "Nuestro Dataset del Mineral Carbon presenta en la columna de 'Municipio' una **NO homogeneidad** en la descripción de los datos. Algunos Municipios venian acompañados por el departamento al que pertenecian aunque existe una columna especifica para el 'Departamento'. \n",
        "\n",
        "El primer paso fue: "
      ]
    },
    {
      "cell_type": "markdown",
      "metadata": {
        "id": "DfBjO_6KjaUC"
      },
      "source": [
        "1. Identificar los municipios a actualizar.\n",
        "2. Reemplazar los valores con el método **.replace()**"
      ]
    },
    {
      "cell_type": "code",
      "metadata": {
        "id": "rPZH-iJxQNFg"
      },
      "source": [
        "munucipios_actualizados_carbon = df_produc_carbon['Municipio'].replace({'Toledo - Antioquia': 'Toledo', 'Venecia - Antioquia': 'Venecia','Boyaca - Boyaca': 'Boyaca', 'Briceño - Boyaca': 'Briceño',\n",
        "                  'Jerico - Boyaca': 'Jerico', 'El Tambo - Cauca': 'El Tambo', 'Morales - Cauca': 'Morales', 'Santa Maria - Boyaca': 'Santa Maria', \n",
        "                  'Suarez - Cauca': 'Suarez', 'San Cayetano - Cundinamarca': 'San Cayetano', 'Albania - La Guajira': 'Albania', 'Arboledas - Norte de Santander':'Arboledas', \n",
        "                  'San Cayetano - Norte de Santander': 'San Cayetano', 'Santiago - Norte de Santander': 'Santiago', 'Toledo - Norte de Santander': 'Toledo', 'Albania - Santander': 'Albania',\n",
        "                  'San Miguel - Santander': 'San Miguel'})"
      ],
      "execution_count": 6,
      "outputs": []
    },
    {
      "cell_type": "markdown",
      "metadata": {
        "id": "5P-3JZoCjvCH"
      },
      "source": [
        "3. Asignar los nuevos datos a la columna 'Municipio' del Dataframe: 'df_produc_carbon'"
      ]
    },
    {
      "cell_type": "code",
      "metadata": {
        "id": "SqoEv3sKhMEs"
      },
      "source": [
        "df_produc_carbon['Municipio'] = munucipios_actualizados_carbon"
      ],
      "execution_count": 7,
      "outputs": []
    },
    {
      "cell_type": "markdown",
      "metadata": {
        "id": "n2KJf767kEmd"
      },
      "source": [
        "4. Verificar que la actualización se llevará a cabo "
      ]
    },
    {
      "cell_type": "code",
      "metadata": {
        "colab": {
          "base_uri": "https://localhost:8080/"
        },
        "id": "YNSSM-4nhXCz",
        "outputId": "9f0f4fdd-5190-43a8-bc4b-4f300bd96001"
      },
      "source": [
        "df_produc_carbon['Municipio'].unique()"
      ],
      "execution_count": 8,
      "outputs": [
        {
          "output_type": "execute_result",
          "data": {
            "text/plain": [
              "array(['Amaga', 'Angelopolis', 'Fredonia', 'Sopetran', 'Titiribi',\n",
              "       'Toledo', 'Venecia', 'Tunja', 'Aquitania', 'Beteitiva', 'Boavita',\n",
              "       'Boyaca', 'Briceño', 'Chiquinquira', 'Chiscas', 'Chita', 'Chivata',\n",
              "       'Combita', 'Corrales', 'Cucaita', 'Duitama', 'El Espino',\n",
              "       'Floresta', 'Gameza', 'Guacamayas', 'Iza', 'Jerico', 'La Uvita',\n",
              "       'Mongua', 'Mongui', 'Motavita', 'Nobsa', 'Nuevo Colon', 'Paipa',\n",
              "       'Paz de Rio', 'Pesca', 'Raquira', 'Saboya', 'Samaca', 'San Mateo',\n",
              "       'Santa Maria', 'Sativanorte', 'Sativasur', 'Socota', 'Socha',\n",
              "       'Sogamoso', 'Sotaquira', 'Susacon', 'Tasco', 'Tibana', 'Topaga',\n",
              "       'Turmeque', 'Tuta', 'Umbita', 'Ventaquemada', 'Buenos Aires',\n",
              "       'Cajibio', 'El Tambo', 'Morales', 'Patia', 'Suarez',\n",
              "       'Agustin Codazzi', 'Becerril', 'Chiriguana', 'El Paso',\n",
              "       'La Jagua de Ibirico', 'Puerto Libertador', 'Caparrapi', 'Cogua',\n",
              "       'Cota', 'Cucunuba', 'Guacheta', 'Guatavita', 'Jerusalen',\n",
              "       'Lenguazaque', 'Macheta', 'Nemocon', 'Pacho', 'San Cayetano',\n",
              "       'Subachoque', 'Suesca', 'Sutatausa', 'Tausa', 'Tocaima',\n",
              "       'Villa de San Diego de Ubate', 'Villapinzon', 'Yacopi',\n",
              "       'Zipaquira', 'Albania', 'Barrancas', 'Hatonuevo', 'Cucuta',\n",
              "       'Arboledas', 'Bochalema', 'Cacota', 'Chinacota', 'Chitaga',\n",
              "       'Durania', 'El Zulia', 'Herran', 'Labateca', 'Los Patios',\n",
              "       'Mutiscua', 'Pamplona', 'Pamplonita', 'Salazar', 'Santiago',\n",
              "       'Sardinata', 'Tibu', 'Villa del Rosario', 'Aguada', 'Capitanejo',\n",
              "       'Cimitarra', 'El Carmen de Chucuri', 'Enciso', 'Guavata',\n",
              "       'Landazuri', 'Macaravita', 'Molagavita', 'San Jose de Miranda',\n",
              "       'San Miguel', 'Velez', 'Cali', 'Jamundi', 'Yumbo', 'Recetor'],\n",
              "      dtype=object)"
            ]
          },
          "metadata": {
            "tags": []
          },
          "execution_count": 8
        }
      ]
    },
    {
      "cell_type": "markdown",
      "metadata": {
        "id": "EyjYH55niPek"
      },
      "source": [
        "# **Exploración de Datos sobre la producción de Carbón**"
      ]
    },
    {
      "cell_type": "markdown",
      "metadata": {
        "id": "aVr6NZyyjyTS"
      },
      "source": [
        "## **Valores únicos de nuestras variables**"
      ]
    },
    {
      "cell_type": "code",
      "metadata": {
        "colab": {
          "base_uri": "https://localhost:8080/"
        },
        "id": "A72jVAhYhf2K",
        "outputId": "de906f9c-fc55-4de7-84fe-e54d9a94a973"
      },
      "source": [
        "df_produc_carbon['Tipo_Contraprestacion'].unique()"
      ],
      "execution_count": 9,
      "outputs": [
        {
          "output_type": "execute_result",
          "data": {
            "text/plain": [
              "array(['REGALIA', 'COMPENSACION'], dtype=object)"
            ]
          },
          "metadata": {
            "tags": []
          },
          "execution_count": 9
        }
      ]
    },
    {
      "cell_type": "code",
      "metadata": {
        "colab": {
          "base_uri": "https://localhost:8080/"
        },
        "id": "fU39xvisjaSS",
        "outputId": "03d6c5c1-9dd0-432f-8b7a-0627bf2382b7"
      },
      "source": [
        "df_produc_carbon['Departamento'].unique()"
      ],
      "execution_count": 10,
      "outputs": [
        {
          "output_type": "execute_result",
          "data": {
            "text/plain": [
              "array(['Antioquia', 'Boyaca', 'Cauca', 'Cesar', 'Cordoba', 'Cundinamarca',\n",
              "       'La Guajira', 'Norte de Santander', 'Santander', 'Valle del Cauca',\n",
              "       'Casanare'], dtype=object)"
            ]
          },
          "metadata": {
            "tags": []
          },
          "execution_count": 10
        }
      ]
    },
    {
      "cell_type": "code",
      "metadata": {
        "colab": {
          "base_uri": "https://localhost:8080/"
        },
        "id": "6pPWpa3rj9Yc",
        "outputId": "549f48d1-ae4f-4afc-874b-c265dc153264"
      },
      "source": [
        "df_produc_carbon['Año_Produccion'].unique()"
      ],
      "execution_count": 11,
      "outputs": [
        {
          "output_type": "execute_result",
          "data": {
            "text/plain": [
              "array([2019, 2012, 2013, 2014, 2015, 2016, 2017, 2018, 2020])"
            ]
          },
          "metadata": {
            "tags": []
          },
          "execution_count": 11
        }
      ]
    },
    {
      "cell_type": "code",
      "metadata": {
        "colab": {
          "base_uri": "https://localhost:8080/"
        },
        "id": "FFNTgbc-y_KM",
        "outputId": "0dc23663-14a5-41eb-e70b-fc21cae33061"
      },
      "source": [
        "df_produc_carbon['Unid_Medida'].unique()"
      ],
      "execution_count": 12,
      "outputs": [
        {
          "output_type": "execute_result",
          "data": {
            "text/plain": [
              "array(['TONELADAS'], dtype=object)"
            ]
          },
          "metadata": {
            "tags": []
          },
          "execution_count": 12
        }
      ]
    },
    {
      "cell_type": "markdown",
      "metadata": {
        "id": "I-QQeN-Xkjkq"
      },
      "source": [
        "## **Alta y baja generación de regalias**"
      ]
    },
    {
      "cell_type": "code",
      "metadata": {
        "colab": {
          "base_uri": "https://localhost:8080/",
          "height": 311
        },
        "id": "n1DIfI9Jh_qH",
        "outputId": "6b60f1fc-133b-4397-9430-f688b722d28f"
      },
      "source": [
        "# Alta generación \n",
        "\n",
        "df_produc_carbon.nlargest(5,'Valor_Regalias')"
      ],
      "execution_count": 13,
      "outputs": [
        {
          "output_type": "execute_result",
          "data": {
            "text/html": [
              "<div>\n",
              "<style scoped>\n",
              "    .dataframe tbody tr th:only-of-type {\n",
              "        vertical-align: middle;\n",
              "    }\n",
              "\n",
              "    .dataframe tbody tr th {\n",
              "        vertical-align: top;\n",
              "    }\n",
              "\n",
              "    .dataframe thead th {\n",
              "        text-align: right;\n",
              "    }\n",
              "</style>\n",
              "<table border=\"1\" class=\"dataframe\">\n",
              "  <thead>\n",
              "    <tr style=\"text-align: right;\">\n",
              "      <th></th>\n",
              "      <th>Id_DANE</th>\n",
              "      <th>Municipio</th>\n",
              "      <th>Departamento</th>\n",
              "      <th>Mineral</th>\n",
              "      <th>Nombre_Proyecto</th>\n",
              "      <th>Año_Produccion</th>\n",
              "      <th>Trimestre</th>\n",
              "      <th>Unid_Medida</th>\n",
              "      <th>Tipo_Contraprestacion</th>\n",
              "      <th>Valor_Regalias</th>\n",
              "      <th>Cantidad_Produccion</th>\n",
              "    </tr>\n",
              "  </thead>\n",
              "  <tbody>\n",
              "    <tr>\n",
              "      <th>2325</th>\n",
              "      <td>20400</td>\n",
              "      <td>La Jagua de Ibirico</td>\n",
              "      <td>Cesar</td>\n",
              "      <td>CARBON</td>\n",
              "      <td>PRODECO - CALENTURITAS</td>\n",
              "      <td>2018</td>\n",
              "      <td>Trimestre 4</td>\n",
              "      <td>TONELADAS</td>\n",
              "      <td>REGALIA</td>\n",
              "      <td>1.554650e+11</td>\n",
              "      <td>528275</td>\n",
              "    </tr>\n",
              "    <tr>\n",
              "      <th>1951</th>\n",
              "      <td>20045</td>\n",
              "      <td>Becerril</td>\n",
              "      <td>Cesar</td>\n",
              "      <td>CARBON</td>\n",
              "      <td>PRODECO - CALENTURITAS</td>\n",
              "      <td>2013</td>\n",
              "      <td>Trimestre 4</td>\n",
              "      <td>TONELADAS</td>\n",
              "      <td>REGALIA</td>\n",
              "      <td>9.508367e+10</td>\n",
              "      <td>944065</td>\n",
              "    </tr>\n",
              "    <tr>\n",
              "      <th>2324</th>\n",
              "      <td>20400</td>\n",
              "      <td>La Jagua de Ibirico</td>\n",
              "      <td>Cesar</td>\n",
              "      <td>CARBON</td>\n",
              "      <td>PRODECO - CALENTURITAS</td>\n",
              "      <td>2017</td>\n",
              "      <td>Trimestre 4</td>\n",
              "      <td>TONELADAS</td>\n",
              "      <td>REGALIA</td>\n",
              "      <td>8.407413e+10</td>\n",
              "      <td>673647</td>\n",
              "    </tr>\n",
              "    <tr>\n",
              "      <th>2018</th>\n",
              "      <td>20045</td>\n",
              "      <td>Becerril</td>\n",
              "      <td>Cesar</td>\n",
              "      <td>CARBON</td>\n",
              "      <td>Drummond - El Descanso</td>\n",
              "      <td>2018</td>\n",
              "      <td>Trimestre 3</td>\n",
              "      <td>TONELADAS</td>\n",
              "      <td>REGALIA</td>\n",
              "      <td>7.609666e+10</td>\n",
              "      <td>4075752</td>\n",
              "    </tr>\n",
              "    <tr>\n",
              "      <th>1942</th>\n",
              "      <td>20045</td>\n",
              "      <td>Becerril</td>\n",
              "      <td>Cesar</td>\n",
              "      <td>CARBON</td>\n",
              "      <td>PRODECO - CALENTURITAS</td>\n",
              "      <td>2014</td>\n",
              "      <td>Trimestre 4</td>\n",
              "      <td>TONELADAS</td>\n",
              "      <td>REGALIA</td>\n",
              "      <td>7.453641e+10</td>\n",
              "      <td>477370</td>\n",
              "    </tr>\n",
              "  </tbody>\n",
              "</table>\n",
              "</div>"
            ],
            "text/plain": [
              "      Id_DANE            Municipio  ... Valor_Regalias Cantidad_Produccion\n",
              "2325    20400  La Jagua de Ibirico  ...   1.554650e+11              528275\n",
              "1951    20045             Becerril  ...   9.508367e+10              944065\n",
              "2324    20400  La Jagua de Ibirico  ...   8.407413e+10              673647\n",
              "2018    20045             Becerril  ...   7.609666e+10             4075752\n",
              "1942    20045             Becerril  ...   7.453641e+10              477370\n",
              "\n",
              "[5 rows x 11 columns]"
            ]
          },
          "metadata": {
            "tags": []
          },
          "execution_count": 13
        }
      ]
    },
    {
      "cell_type": "code",
      "metadata": {
        "colab": {
          "base_uri": "https://localhost:8080/",
          "height": 311
        },
        "id": "yjZ-AyAClJ2c",
        "outputId": "cdc70783-9ce5-4e47-a6be-4bb233d4adbb"
      },
      "source": [
        "# Baja generación \n",
        "\n",
        "df_produc_carbon.nsmallest(5, 'Valor_Regalias')"
      ],
      "execution_count": 14,
      "outputs": [
        {
          "output_type": "execute_result",
          "data": {
            "text/html": [
              "<div>\n",
              "<style scoped>\n",
              "    .dataframe tbody tr th:only-of-type {\n",
              "        vertical-align: middle;\n",
              "    }\n",
              "\n",
              "    .dataframe tbody tr th {\n",
              "        vertical-align: top;\n",
              "    }\n",
              "\n",
              "    .dataframe thead th {\n",
              "        text-align: right;\n",
              "    }\n",
              "</style>\n",
              "<table border=\"1\" class=\"dataframe\">\n",
              "  <thead>\n",
              "    <tr style=\"text-align: right;\">\n",
              "      <th></th>\n",
              "      <th>Id_DANE</th>\n",
              "      <th>Municipio</th>\n",
              "      <th>Departamento</th>\n",
              "      <th>Mineral</th>\n",
              "      <th>Nombre_Proyecto</th>\n",
              "      <th>Año_Produccion</th>\n",
              "      <th>Trimestre</th>\n",
              "      <th>Unid_Medida</th>\n",
              "      <th>Tipo_Contraprestacion</th>\n",
              "      <th>Valor_Regalias</th>\n",
              "      <th>Cantidad_Produccion</th>\n",
              "    </tr>\n",
              "  </thead>\n",
              "  <tbody>\n",
              "    <tr>\n",
              "      <th>1849</th>\n",
              "      <td>20045</td>\n",
              "      <td>Becerril</td>\n",
              "      <td>Cesar</td>\n",
              "      <td>CARBON</td>\n",
              "      <td>PRODECO - CALENTURITAS</td>\n",
              "      <td>2018</td>\n",
              "      <td>Trimestre 1</td>\n",
              "      <td>TONELADAS</td>\n",
              "      <td>REGALIA</td>\n",
              "      <td>0.0</td>\n",
              "      <td>206907</td>\n",
              "    </tr>\n",
              "    <tr>\n",
              "      <th>2052</th>\n",
              "      <td>20178</td>\n",
              "      <td>Chiriguana</td>\n",
              "      <td>Cesar</td>\n",
              "      <td>CARBON</td>\n",
              "      <td>Drummond - La Loma</td>\n",
              "      <td>2014</td>\n",
              "      <td>Trimestre 1</td>\n",
              "      <td>TONELADAS</td>\n",
              "      <td>REGALIA</td>\n",
              "      <td>0.0</td>\n",
              "      <td>860789</td>\n",
              "    </tr>\n",
              "    <tr>\n",
              "      <th>2058</th>\n",
              "      <td>20178</td>\n",
              "      <td>Chiriguana</td>\n",
              "      <td>Cesar</td>\n",
              "      <td>CARBON</td>\n",
              "      <td>Drummond - La Loma</td>\n",
              "      <td>2014</td>\n",
              "      <td>Trimestre 1</td>\n",
              "      <td>TONELADAS</td>\n",
              "      <td>REGALIA</td>\n",
              "      <td>0.0</td>\n",
              "      <td>831477</td>\n",
              "    </tr>\n",
              "    <tr>\n",
              "      <th>2218</th>\n",
              "      <td>20400</td>\n",
              "      <td>La Jagua de Ibirico</td>\n",
              "      <td>Cesar</td>\n",
              "      <td>CARBON</td>\n",
              "      <td>PRODECO - CALENTURITAS</td>\n",
              "      <td>2018</td>\n",
              "      <td>Trimestre 1</td>\n",
              "      <td>TONELADAS</td>\n",
              "      <td>REGALIA</td>\n",
              "      <td>0.0</td>\n",
              "      <td>467110</td>\n",
              "    </tr>\n",
              "    <tr>\n",
              "      <th>2338</th>\n",
              "      <td>20400</td>\n",
              "      <td>La Jagua de Ibirico</td>\n",
              "      <td>Cesar</td>\n",
              "      <td>CARBON</td>\n",
              "      <td>Drummond - La Loma</td>\n",
              "      <td>2014</td>\n",
              "      <td>Trimestre 1</td>\n",
              "      <td>TONELADAS</td>\n",
              "      <td>REGALIA</td>\n",
              "      <td>0.0</td>\n",
              "      <td>866341</td>\n",
              "    </tr>\n",
              "  </tbody>\n",
              "</table>\n",
              "</div>"
            ],
            "text/plain": [
              "      Id_DANE            Municipio  ... Valor_Regalias Cantidad_Produccion\n",
              "1849    20045             Becerril  ...            0.0              206907\n",
              "2052    20178           Chiriguana  ...            0.0              860789\n",
              "2058    20178           Chiriguana  ...            0.0              831477\n",
              "2218    20400  La Jagua de Ibirico  ...            0.0              467110\n",
              "2338    20400  La Jagua de Ibirico  ...            0.0              866341\n",
              "\n",
              "[5 rows x 11 columns]"
            ]
          },
          "metadata": {
            "tags": []
          },
          "execution_count": 14
        }
      ]
    },
    {
      "cell_type": "markdown",
      "metadata": {
        "id": "cnbsvT0Ql-yt"
      },
      "source": [
        "## **Alta y baja producción de Carbón**"
      ]
    },
    {
      "cell_type": "code",
      "metadata": {
        "colab": {
          "base_uri": "https://localhost:8080/",
          "height": 311
        },
        "id": "BUGuOBafmIYW",
        "outputId": "2ad33f15-cf37-4801-d547-4f2dbeb339ed"
      },
      "source": [
        "# Alta producción \n",
        "\n",
        "df_produc_carbon.nlargest(5,'Cantidad_Produccion')"
      ],
      "execution_count": 15,
      "outputs": [
        {
          "output_type": "execute_result",
          "data": {
            "text/html": [
              "<div>\n",
              "<style scoped>\n",
              "    .dataframe tbody tr th:only-of-type {\n",
              "        vertical-align: middle;\n",
              "    }\n",
              "\n",
              "    .dataframe tbody tr th {\n",
              "        vertical-align: top;\n",
              "    }\n",
              "\n",
              "    .dataframe thead th {\n",
              "        text-align: right;\n",
              "    }\n",
              "</style>\n",
              "<table border=\"1\" class=\"dataframe\">\n",
              "  <thead>\n",
              "    <tr style=\"text-align: right;\">\n",
              "      <th></th>\n",
              "      <th>Id_DANE</th>\n",
              "      <th>Municipio</th>\n",
              "      <th>Departamento</th>\n",
              "      <th>Mineral</th>\n",
              "      <th>Nombre_Proyecto</th>\n",
              "      <th>Año_Produccion</th>\n",
              "      <th>Trimestre</th>\n",
              "      <th>Unid_Medida</th>\n",
              "      <th>Tipo_Contraprestacion</th>\n",
              "      <th>Valor_Regalias</th>\n",
              "      <th>Cantidad_Produccion</th>\n",
              "    </tr>\n",
              "  </thead>\n",
              "  <tbody>\n",
              "    <tr>\n",
              "      <th>3274</th>\n",
              "      <td>44035</td>\n",
              "      <td>Albania</td>\n",
              "      <td>La Guajira</td>\n",
              "      <td>CARBON</td>\n",
              "      <td>CERREJON  CZN - CEMT</td>\n",
              "      <td>2014</td>\n",
              "      <td>Trimestre 2</td>\n",
              "      <td>TONELADAS</td>\n",
              "      <td>REGALIA</td>\n",
              "      <td>1.884709e+10</td>\n",
              "      <td>6703987</td>\n",
              "    </tr>\n",
              "    <tr>\n",
              "      <th>3257</th>\n",
              "      <td>44035</td>\n",
              "      <td>Albania</td>\n",
              "      <td>La Guajira</td>\n",
              "      <td>CARBON</td>\n",
              "      <td>CERREJON  CZN - CEMT</td>\n",
              "      <td>2014</td>\n",
              "      <td>Trimestre 1</td>\n",
              "      <td>TONELADAS</td>\n",
              "      <td>REGALIA</td>\n",
              "      <td>2.056198e+10</td>\n",
              "      <td>6419249</td>\n",
              "    </tr>\n",
              "    <tr>\n",
              "      <th>3272</th>\n",
              "      <td>44035</td>\n",
              "      <td>Albania</td>\n",
              "      <td>La Guajira</td>\n",
              "      <td>CARBON</td>\n",
              "      <td>CERREJON  CZN - CEMT</td>\n",
              "      <td>2013</td>\n",
              "      <td>Trimestre 2</td>\n",
              "      <td>TONELADAS</td>\n",
              "      <td>REGALIA</td>\n",
              "      <td>1.969657e+10</td>\n",
              "      <td>6373262</td>\n",
              "    </tr>\n",
              "    <tr>\n",
              "      <th>3276</th>\n",
              "      <td>44035</td>\n",
              "      <td>Albania</td>\n",
              "      <td>La Guajira</td>\n",
              "      <td>CARBON</td>\n",
              "      <td>CERREJON  CZN - CEMT</td>\n",
              "      <td>2015</td>\n",
              "      <td>Trimestre 2</td>\n",
              "      <td>TONELADAS</td>\n",
              "      <td>REGALIA</td>\n",
              "      <td>1.767290e+10</td>\n",
              "      <td>6346723</td>\n",
              "    </tr>\n",
              "    <tr>\n",
              "      <th>3307</th>\n",
              "      <td>44035</td>\n",
              "      <td>Albania</td>\n",
              "      <td>La Guajira</td>\n",
              "      <td>CARBON</td>\n",
              "      <td>CERREJON  CZN - CEMT</td>\n",
              "      <td>2013</td>\n",
              "      <td>Trimestre 4</td>\n",
              "      <td>TONELADAS</td>\n",
              "      <td>REGALIA</td>\n",
              "      <td>1.990822e+10</td>\n",
              "      <td>6203107</td>\n",
              "    </tr>\n",
              "  </tbody>\n",
              "</table>\n",
              "</div>"
            ],
            "text/plain": [
              "      Id_DANE Municipio  ... Valor_Regalias Cantidad_Produccion\n",
              "3274    44035   Albania  ...   1.884709e+10             6703987\n",
              "3257    44035   Albania  ...   2.056198e+10             6419249\n",
              "3272    44035   Albania  ...   1.969657e+10             6373262\n",
              "3276    44035   Albania  ...   1.767290e+10             6346723\n",
              "3307    44035   Albania  ...   1.990822e+10             6203107\n",
              "\n",
              "[5 rows x 11 columns]"
            ]
          },
          "metadata": {
            "tags": []
          },
          "execution_count": 15
        }
      ]
    },
    {
      "cell_type": "code",
      "metadata": {
        "colab": {
          "base_uri": "https://localhost:8080/",
          "height": 311
        },
        "id": "nqVFxcPgntk1",
        "outputId": "67a78295-3902-4207-cba4-cae1f236e972"
      },
      "source": [
        "# Baja producción \n",
        "\n",
        "df_produc_carbon.nsmallest(5,'Cantidad_Produccion')"
      ],
      "execution_count": 16,
      "outputs": [
        {
          "output_type": "execute_result",
          "data": {
            "text/html": [
              "<div>\n",
              "<style scoped>\n",
              "    .dataframe tbody tr th:only-of-type {\n",
              "        vertical-align: middle;\n",
              "    }\n",
              "\n",
              "    .dataframe tbody tr th {\n",
              "        vertical-align: top;\n",
              "    }\n",
              "\n",
              "    .dataframe thead th {\n",
              "        text-align: right;\n",
              "    }\n",
              "</style>\n",
              "<table border=\"1\" class=\"dataframe\">\n",
              "  <thead>\n",
              "    <tr style=\"text-align: right;\">\n",
              "      <th></th>\n",
              "      <th>Id_DANE</th>\n",
              "      <th>Municipio</th>\n",
              "      <th>Departamento</th>\n",
              "      <th>Mineral</th>\n",
              "      <th>Nombre_Proyecto</th>\n",
              "      <th>Año_Produccion</th>\n",
              "      <th>Trimestre</th>\n",
              "      <th>Unid_Medida</th>\n",
              "      <th>Tipo_Contraprestacion</th>\n",
              "      <th>Valor_Regalias</th>\n",
              "      <th>Cantidad_Produccion</th>\n",
              "    </tr>\n",
              "  </thead>\n",
              "  <tbody>\n",
              "    <tr>\n",
              "      <th>63</th>\n",
              "      <td>5282</td>\n",
              "      <td>Fredonia</td>\n",
              "      <td>Antioquia</td>\n",
              "      <td>CARBON</td>\n",
              "      <td>PRODUCTORES</td>\n",
              "      <td>2012</td>\n",
              "      <td>Trimestre 4</td>\n",
              "      <td>TONELADAS</td>\n",
              "      <td>REGALIA</td>\n",
              "      <td>287282581.0</td>\n",
              "      <td>0</td>\n",
              "    </tr>\n",
              "    <tr>\n",
              "      <th>115</th>\n",
              "      <td>5861</td>\n",
              "      <td>Venecia</td>\n",
              "      <td>Antioquia</td>\n",
              "      <td>CARBON</td>\n",
              "      <td>PRODUCTORES</td>\n",
              "      <td>2012</td>\n",
              "      <td>Trimestre 4</td>\n",
              "      <td>TONELADAS</td>\n",
              "      <td>REGALIA</td>\n",
              "      <td>127171483.0</td>\n",
              "      <td>0</td>\n",
              "    </tr>\n",
              "    <tr>\n",
              "      <th>251</th>\n",
              "      <td>15106</td>\n",
              "      <td>Briceño</td>\n",
              "      <td>Boyaca</td>\n",
              "      <td>CARBON</td>\n",
              "      <td>PRODUCTORES</td>\n",
              "      <td>2018</td>\n",
              "      <td>Trimestre 4</td>\n",
              "      <td>TONELADAS</td>\n",
              "      <td>REGALIA</td>\n",
              "      <td>50000.0</td>\n",
              "      <td>0</td>\n",
              "    </tr>\n",
              "    <tr>\n",
              "      <th>512</th>\n",
              "      <td>15368</td>\n",
              "      <td>Jerico</td>\n",
              "      <td>Boyaca</td>\n",
              "      <td>CARBON</td>\n",
              "      <td>MINAS PAZ DEL RIO S.A.</td>\n",
              "      <td>2013</td>\n",
              "      <td>Trimestre 1</td>\n",
              "      <td>TONELADAS</td>\n",
              "      <td>COMPENSACION</td>\n",
              "      <td>12919818.0</td>\n",
              "      <td>0</td>\n",
              "    </tr>\n",
              "    <tr>\n",
              "      <th>514</th>\n",
              "      <td>15368</td>\n",
              "      <td>Jerico</td>\n",
              "      <td>Boyaca</td>\n",
              "      <td>CARBON</td>\n",
              "      <td>MINAS PAZ DEL RIO S.A.</td>\n",
              "      <td>2020</td>\n",
              "      <td>Trimestre 1</td>\n",
              "      <td>TONELADAS</td>\n",
              "      <td>COMPENSACION</td>\n",
              "      <td>7362330.0</td>\n",
              "      <td>0</td>\n",
              "    </tr>\n",
              "  </tbody>\n",
              "</table>\n",
              "</div>"
            ],
            "text/plain": [
              "     Id_DANE Municipio  ... Valor_Regalias Cantidad_Produccion\n",
              "63      5282  Fredonia  ...    287282581.0                   0\n",
              "115     5861   Venecia  ...    127171483.0                   0\n",
              "251    15106   Briceño  ...        50000.0                   0\n",
              "512    15368    Jerico  ...     12919818.0                   0\n",
              "514    15368    Jerico  ...      7362330.0                   0\n",
              "\n",
              "[5 rows x 11 columns]"
            ]
          },
          "metadata": {
            "tags": []
          },
          "execution_count": 16
        }
      ]
    },
    {
      "cell_type": "markdown",
      "metadata": {
        "id": "ed8YIcvln2kC"
      },
      "source": [
        "## **NOTA:**\n",
        "## ***Al analizar las variables 'Valor_Regalias',  'Cantidad_Produccion' se observo que existen datos faltantes. Vamos a visualizar los datos faltantes***\n",
        "---\n",
        "\n"
      ]
    },
    {
      "cell_type": "markdown",
      "metadata": {
        "id": "ba0lkdlRuVa2"
      },
      "source": [
        "## **Datos Faltantes**"
      ]
    },
    {
      "cell_type": "code",
      "metadata": {
        "colab": {
          "base_uri": "https://localhost:8080/",
          "height": 337
        },
        "id": "h_HK1LsXwp9r",
        "outputId": "766911fb-88b4-49f6-842d-5fa17a85c1a8"
      },
      "source": [
        "import missingno as msno\n",
        "import matplotlib.pyplot as plt\n",
        "\n",
        "\n",
        "msno.matrix(df_produc_carbon)"
      ],
      "execution_count": 17,
      "outputs": [
        {
          "output_type": "execute_result",
          "data": {
            "text/plain": [
              "<matplotlib.axes._subplots.AxesSubplot at 0x7fd56a4ca910>"
            ]
          },
          "metadata": {
            "tags": []
          },
          "execution_count": 17
        },
        {
          "output_type": "display_data",
          "data": {
            "image/png": "[encoded data removed]",
            "text/plain": [
              "<Figure size 1800x720 with 2 Axes>"
            ]
          },
          "metadata": {
            "tags": [],
            "needs_background": "light"
          }
        }
      ]
    },
    {
      "cell_type": "markdown",
      "metadata": {
        "id": "q650p7XKqt7Z"
      },
      "source": [
        "### **Usando métodos: isna(), isnull()**"
      ]
    },
    {
      "cell_type": "code",
      "metadata": {
        "colab": {
          "base_uri": "https://localhost:8080/"
        },
        "id": "vE6Ep4WZqaY7",
        "outputId": "5dba1c62-a4b9-4e1d-f866-ee15b0e934f4"
      },
      "source": [
        "df_produc_carbon.isna().sum()"
      ],
      "execution_count": 18,
      "outputs": [
        {
          "output_type": "execute_result",
          "data": {
            "text/plain": [
              "Id_DANE                  0\n",
              "Municipio                0\n",
              "Departamento             0\n",
              "Mineral                  0\n",
              "Nombre_Proyecto          0\n",
              "Año_Produccion           0\n",
              "Trimestre                0\n",
              "Unid_Medida              0\n",
              "Tipo_Contraprestacion    0\n",
              "Valor_Regalias           0\n",
              "Cantidad_Produccion      0\n",
              "dtype: int64"
            ]
          },
          "metadata": {
            "tags": []
          },
          "execution_count": 18
        }
      ]
    },
    {
      "cell_type": "code",
      "metadata": {
        "colab": {
          "base_uri": "https://localhost:8080/"
        },
        "id": "3prWYS7uqgER",
        "outputId": "86cdb96d-4b41-4d16-dfe4-49c0a77cf365"
      },
      "source": [
        "df_produc_carbon.isnull().sum()"
      ],
      "execution_count": 19,
      "outputs": [
        {
          "output_type": "execute_result",
          "data": {
            "text/plain": [
              "Id_DANE                  0\n",
              "Municipio                0\n",
              "Departamento             0\n",
              "Mineral                  0\n",
              "Nombre_Proyecto          0\n",
              "Año_Produccion           0\n",
              "Trimestre                0\n",
              "Unid_Medida              0\n",
              "Tipo_Contraprestacion    0\n",
              "Valor_Regalias           0\n",
              "Cantidad_Produccion      0\n",
              "dtype: int64"
            ]
          },
          "metadata": {
            "tags": []
          },
          "execution_count": 19
        }
      ]
    },
    {
      "cell_type": "markdown",
      "metadata": {
        "id": "mpashQSxuEZx"
      },
      "source": [
        "### **Usando método query()**"
      ]
    },
    {
      "cell_type": "code",
      "metadata": {
        "colab": {
          "base_uri": "https://localhost:8080/"
        },
        "id": "qiOoHN4usr8i",
        "outputId": "e8402719-933f-4d68-90a7-f2b9c4725bb1"
      },
      "source": [
        "df_produc_carbon.query('Valor_Regalias == 0.0').value_counts()"
      ],
      "execution_count": 20,
      "outputs": [
        {
          "output_type": "execute_result",
          "data": {
            "text/plain": [
              "Id_DANE  Municipio            Departamento  Mineral  Nombre_Proyecto                        Año_Produccion  Trimestre    Unid_Medida  Tipo_Contraprestacion  Valor_Regalias  Cantidad_Produccion\n",
              "44378    Hatonuevo            La Guajira    CARBON   CERREJON - PATILLA                     2018            Trimestre 1  TONELADAS    REGALIA                0.0             797163                 1\n",
              "44078    Barrancas            La Guajira    CARBON   CARBONES DEL CERREJON COMUNIDAD - RPP  2017            Trimestre 2  TONELADAS    REGALIA                0.0             51050                  1\n",
              "                                                                                                            Trimestre 1  TONELADAS    REGALIA                0.0             71308                  1\n",
              "20400    La Jagua de Ibirico  Cesar         CARBON   PRODECO - CALENTURITAS                 2018            Trimestre 1  TONELADAS    REGALIA                0.0             467110                 1\n",
              "                                                     Drummond - La Loma                     2014            Trimestre 1  TONELADAS    REGALIA                0.0             1085848                1\n",
              "                                                                                                                                                                             866341                 1\n",
              "20178    Chiriguana           Cesar         CARBON   Drummond - La Loma                     2014            Trimestre 1  TONELADAS    REGALIA                0.0             860789                 1\n",
              "                                                                                                                                                                             831477                 1\n",
              "20045    Becerril             Cesar         CARBON   PRODECO - CALENTURITAS                 2018            Trimestre 1  TONELADAS    REGALIA                0.0             206907                 1\n",
              "dtype: int64"
            ]
          },
          "metadata": {
            "tags": []
          },
          "execution_count": 20
        }
      ]
    },
    {
      "cell_type": "markdown",
      "metadata": {
        "id": "sBu1M3bUu9Mn"
      },
      "source": [
        "### **NOTA:  9 Datos faltantes**\n",
        "\n",
        "---\n",
        "\n"
      ]
    },
    {
      "cell_type": "code",
      "metadata": {
        "colab": {
          "base_uri": "https://localhost:8080/"
        },
        "id": "Zzq43zqZtkn9",
        "outputId": "78119533-0019-46fb-f193-621e5b30b414"
      },
      "source": [
        "df_produc_carbon.query('Cantidad_Produccion == 0.0').value_counts()"
      ],
      "execution_count": 21,
      "outputs": [
        {
          "output_type": "execute_result",
          "data": {
            "text/plain": [
              "Id_DANE  Municipio  Departamento  Mineral  Nombre_Proyecto                  Año_Produccion  Trimestre    Unid_Medida  Tipo_Contraprestacion  Valor_Regalias  Cantidad_Produccion\n",
              "85279    Recetor    Casanare      CARBON   PRODUCTORES                      2017            Trimestre 2  TONELADAS    REGALIA                3.727300e+05    0                      1\n",
              "20045    Becerril   Cesar         CARBON   Drummond - El Descanso           2016            Trimestre 3  TONELADAS    COMPENSACION           1.008003e+10    0                      1\n",
              "                                                                            2018            Trimestre 1  TONELADAS    COMPENSACION           5.650217e+10    0                      1\n",
              "                                                                            2017            Trimestre 4  TONELADAS    COMPENSACION           3.063437e+10    0                      1\n",
              "                                                                                            Trimestre 3  TONELADAS    COMPENSACION           2.308595e+10    0                      1\n",
              "                                                                                                                                                                                   ..\n",
              "44035    Albania    La Guajira    CARBON   CERREJON CONTRATO DE ASOCIACION  2013            Trimestre 3  TONELADAS    REGALIA                2.048819e+10    0                      1\n",
              "                                                                                                                                             2.233601e+10    0                      1\n",
              "                                                                                            Trimestre 4  TONELADAS    REGALIA                1.713256e+10    0                      1\n",
              "                                                                                                                                             1.983039e+10    0                      1\n",
              "5282     Fredonia   Antioquia     CARBON   PRODUCTORES                      2012            Trimestre 4  TONELADAS    REGALIA                2.872826e+08    0                      1\n",
              "Length: 557, dtype: int64"
            ]
          },
          "metadata": {
            "tags": []
          },
          "execution_count": 21
        }
      ]
    },
    {
      "cell_type": "markdown",
      "metadata": {
        "id": "qvj1uguJvtHL"
      },
      "source": [
        "### **NOTA: 557 Datos Faltantes**\n",
        "\n",
        "---\n",
        "\n"
      ]
    },
    {
      "cell_type": "code",
      "metadata": {
        "colab": {
          "base_uri": "https://localhost:8080/",
          "height": 612
        },
        "id": "CoY935OS489n",
        "outputId": "5899cda4-923e-4517-c082-11e585a99386"
      },
      "source": [
        "df_produc_carbon.query('Tipo_Contraprestacion == \"COMPENSACION\" and Cantidad_Produccion == 0.0')"
      ],
      "execution_count": 22,
      "outputs": [
        {
          "output_type": "execute_result",
          "data": {
            "text/html": [
              "<div>\n",
              "<style scoped>\n",
              "    .dataframe tbody tr th:only-of-type {\n",
              "        vertical-align: middle;\n",
              "    }\n",
              "\n",
              "    .dataframe tbody tr th {\n",
              "        vertical-align: top;\n",
              "    }\n",
              "\n",
              "    .dataframe thead th {\n",
              "        text-align: right;\n",
              "    }\n",
              "</style>\n",
              "<table border=\"1\" class=\"dataframe\">\n",
              "  <thead>\n",
              "    <tr style=\"text-align: right;\">\n",
              "      <th></th>\n",
              "      <th>Id_DANE</th>\n",
              "      <th>Municipio</th>\n",
              "      <th>Departamento</th>\n",
              "      <th>Mineral</th>\n",
              "      <th>Nombre_Proyecto</th>\n",
              "      <th>Año_Produccion</th>\n",
              "      <th>Trimestre</th>\n",
              "      <th>Unid_Medida</th>\n",
              "      <th>Tipo_Contraprestacion</th>\n",
              "      <th>Valor_Regalias</th>\n",
              "      <th>Cantidad_Produccion</th>\n",
              "    </tr>\n",
              "  </thead>\n",
              "  <tbody>\n",
              "    <tr>\n",
              "      <th>512</th>\n",
              "      <td>15368</td>\n",
              "      <td>Jerico</td>\n",
              "      <td>Boyaca</td>\n",
              "      <td>CARBON</td>\n",
              "      <td>MINAS PAZ DEL RIO S.A.</td>\n",
              "      <td>2013</td>\n",
              "      <td>Trimestre 1</td>\n",
              "      <td>TONELADAS</td>\n",
              "      <td>COMPENSACION</td>\n",
              "      <td>12919818.0</td>\n",
              "      <td>0</td>\n",
              "    </tr>\n",
              "    <tr>\n",
              "      <th>514</th>\n",
              "      <td>15368</td>\n",
              "      <td>Jerico</td>\n",
              "      <td>Boyaca</td>\n",
              "      <td>CARBON</td>\n",
              "      <td>MINAS PAZ DEL RIO S.A.</td>\n",
              "      <td>2020</td>\n",
              "      <td>Trimestre 1</td>\n",
              "      <td>TONELADAS</td>\n",
              "      <td>COMPENSACION</td>\n",
              "      <td>7362330.0</td>\n",
              "      <td>0</td>\n",
              "    </tr>\n",
              "    <tr>\n",
              "      <th>516</th>\n",
              "      <td>15368</td>\n",
              "      <td>Jerico</td>\n",
              "      <td>Boyaca</td>\n",
              "      <td>CARBON</td>\n",
              "      <td>MINAS PAZ DEL RIO S.A.</td>\n",
              "      <td>2012</td>\n",
              "      <td>Trimestre 2</td>\n",
              "      <td>TONELADAS</td>\n",
              "      <td>COMPENSACION</td>\n",
              "      <td>1090225.0</td>\n",
              "      <td>0</td>\n",
              "    </tr>\n",
              "    <tr>\n",
              "      <th>518</th>\n",
              "      <td>15368</td>\n",
              "      <td>Jerico</td>\n",
              "      <td>Boyaca</td>\n",
              "      <td>CARBON</td>\n",
              "      <td>MINAS PAZ DEL RIO S.A.</td>\n",
              "      <td>2013</td>\n",
              "      <td>Trimestre 2</td>\n",
              "      <td>TONELADAS</td>\n",
              "      <td>COMPENSACION</td>\n",
              "      <td>8992154.0</td>\n",
              "      <td>0</td>\n",
              "    </tr>\n",
              "    <tr>\n",
              "      <th>520</th>\n",
              "      <td>15368</td>\n",
              "      <td>Jerico</td>\n",
              "      <td>Boyaca</td>\n",
              "      <td>CARBON</td>\n",
              "      <td>MINAS PAZ DEL RIO S.A.</td>\n",
              "      <td>2019</td>\n",
              "      <td>Trimestre 2</td>\n",
              "      <td>TONELADAS</td>\n",
              "      <td>COMPENSACION</td>\n",
              "      <td>10540962.0</td>\n",
              "      <td>0</td>\n",
              "    </tr>\n",
              "    <tr>\n",
              "      <th>...</th>\n",
              "      <td>...</td>\n",
              "      <td>...</td>\n",
              "      <td>...</td>\n",
              "      <td>...</td>\n",
              "      <td>...</td>\n",
              "      <td>...</td>\n",
              "      <td>...</td>\n",
              "      <td>...</td>\n",
              "      <td>...</td>\n",
              "      <td>...</td>\n",
              "      <td>...</td>\n",
              "    </tr>\n",
              "    <tr>\n",
              "      <th>3706</th>\n",
              "      <td>54001</td>\n",
              "      <td>Cucuta</td>\n",
              "      <td>Norte de Santander</td>\n",
              "      <td>CARBON</td>\n",
              "      <td>PRODUCTORES</td>\n",
              "      <td>2012</td>\n",
              "      <td>Trimestre 4</td>\n",
              "      <td>TONELADAS</td>\n",
              "      <td>COMPENSACION</td>\n",
              "      <td>26034754.0</td>\n",
              "      <td>0</td>\n",
              "    </tr>\n",
              "    <tr>\n",
              "      <th>3708</th>\n",
              "      <td>54001</td>\n",
              "      <td>Cucuta</td>\n",
              "      <td>Norte de Santander</td>\n",
              "      <td>CARBON</td>\n",
              "      <td>PRODUCTORES</td>\n",
              "      <td>2013</td>\n",
              "      <td>Trimestre 4</td>\n",
              "      <td>TONELADAS</td>\n",
              "      <td>COMPENSACION</td>\n",
              "      <td>45717175.0</td>\n",
              "      <td>0</td>\n",
              "    </tr>\n",
              "    <tr>\n",
              "      <th>3710</th>\n",
              "      <td>54001</td>\n",
              "      <td>Cucuta</td>\n",
              "      <td>Norte de Santander</td>\n",
              "      <td>CARBON</td>\n",
              "      <td>PRODUCTORES</td>\n",
              "      <td>2014</td>\n",
              "      <td>Trimestre 4</td>\n",
              "      <td>TONELADAS</td>\n",
              "      <td>COMPENSACION</td>\n",
              "      <td>12523443.0</td>\n",
              "      <td>0</td>\n",
              "    </tr>\n",
              "    <tr>\n",
              "      <th>3712</th>\n",
              "      <td>54001</td>\n",
              "      <td>Cucuta</td>\n",
              "      <td>Norte de Santander</td>\n",
              "      <td>CARBON</td>\n",
              "      <td>PRODUCTORES</td>\n",
              "      <td>2015</td>\n",
              "      <td>Trimestre 4</td>\n",
              "      <td>TONELADAS</td>\n",
              "      <td>COMPENSACION</td>\n",
              "      <td>9996256.0</td>\n",
              "      <td>0</td>\n",
              "    </tr>\n",
              "    <tr>\n",
              "      <th>4176</th>\n",
              "      <td>54673</td>\n",
              "      <td>San Cayetano</td>\n",
              "      <td>Norte de Santander</td>\n",
              "      <td>CARBON</td>\n",
              "      <td>PRODUCTORES</td>\n",
              "      <td>2016</td>\n",
              "      <td>Trimestre 4</td>\n",
              "      <td>TONELADAS</td>\n",
              "      <td>COMPENSACION</td>\n",
              "      <td>21318474.0</td>\n",
              "      <td>0</td>\n",
              "    </tr>\n",
              "  </tbody>\n",
              "</table>\n",
              "<p>391 rows × 11 columns</p>\n",
              "</div>"
            ],
            "text/plain": [
              "      Id_DANE     Municipio  ... Valor_Regalias Cantidad_Produccion\n",
              "512     15368        Jerico  ...     12919818.0                   0\n",
              "514     15368        Jerico  ...      7362330.0                   0\n",
              "516     15368        Jerico  ...      1090225.0                   0\n",
              "518     15368        Jerico  ...      8992154.0                   0\n",
              "520     15368        Jerico  ...     10540962.0                   0\n",
              "...       ...           ...  ...            ...                 ...\n",
              "3706    54001        Cucuta  ...     26034754.0                   0\n",
              "3708    54001        Cucuta  ...     45717175.0                   0\n",
              "3710    54001        Cucuta  ...     12523443.0                   0\n",
              "3712    54001        Cucuta  ...      9996256.0                   0\n",
              "4176    54673  San Cayetano  ...     21318474.0                   0\n",
              "\n",
              "[391 rows x 11 columns]"
            ]
          },
          "metadata": {
            "tags": []
          },
          "execution_count": 22
        }
      ]
    },
    {
      "cell_type": "markdown",
      "metadata": {
        "id": "DtdXONlsGg7S"
      },
      "source": [
        "### **NOTA:** Tenemos 391 observaciones con cantidad de produccion = 0 en el tipo de contraprestación = 'COMPENSACION'\n",
        "\n",
        "---\n",
        "\n"
      ]
    },
    {
      "cell_type": "markdown",
      "metadata": {
        "id": "kmB76Wb1QkX0"
      },
      "source": [
        "# **Exploración gráfica de los datos**"
      ]
    },
    {
      "cell_type": "code",
      "metadata": {
        "colab": {
          "base_uri": "https://localhost:8080/",
          "height": 308
        },
        "id": "U1vWLFRUwyNZ",
        "outputId": "7620e157-dc2c-4a86-a24e-772c1be9b483"
      },
      "source": [
        "sns.scatterplot(x=df_produc_carbon['Cantidad_Produccion'], y=df_produc_carbon['Valor_Regalias'], hue=df_produc_carbon['Tipo_Contraprestacion'])"
      ],
      "execution_count": 34,
      "outputs": [
        {
          "output_type": "execute_result",
          "data": {
            "text/plain": [
              "<matplotlib.axes._subplots.AxesSubplot at 0x7fd55b81de10>"
            ]
          },
          "metadata": {
            "tags": []
          },
          "execution_count": 34
        },
        {
          "output_type": "display_data",
          "data": {
            "image/png": "[encoded data removed]",
            "text/plain": [
              "<Figure size 432x288 with 1 Axes>"
            ]
          },
          "metadata": {
            "tags": [],
            "needs_background": "light"
          }
        }
      ]
    },
    {
      "cell_type": "markdown",
      "metadata": {
        "id": "2KdmzANk6lIC"
      },
      "source": [
        "No existe una alta relación entre la produccion y la generación de activos económicos al estado. Mas adelante calcularemos en coeficiente de correlación entre ellas "
      ]
    },
    {
      "cell_type": "code",
      "metadata": {
        "id": "N6vdlcKLMPdF"
      },
      "source": [
        "sns.lineplot(x=df_produc_carbon['Año_Produccion'], y=df_produc_carbon['Valor_Regalias'], hue=df_produc_carbon['Tipo_Contraprestacion'])"
      ],
      "execution_count": null,
      "outputs": []
    },
    {
      "cell_type": "markdown",
      "metadata": {
        "id": "8pn_9wsfBLcA"
      },
      "source": [
        "# **Generación de regalias por Dpto**"
      ]
    },
    {
      "cell_type": "code",
      "metadata": {
        "id": "2xaF5BXmPWvz"
      },
      "source": [
        "sns.barplot(x=df_produc_carbon['Valor_Regalias'], y=df_produc_carbon['Departamento'])"
      ],
      "execution_count": null,
      "outputs": []
    },
    {
      "cell_type": "markdown",
      "metadata": {
        "id": "K9qiRQWERzWn"
      },
      "source": [
        "\n",
        "### **NOTA:** Se observa que el Dpto del Cesar es quien genera mayor regalias. La pregunta es, **¿Cuál es el tipo de contraprestación que predomina en el Dpto del Cesar?**\n",
        "---\n",
        "\n"
      ]
    },
    {
      "cell_type": "markdown",
      "metadata": {
        "id": "mrkhcUlkBdbr"
      },
      "source": [
        "# **Producción de carbon por Dpto**"
      ]
    },
    {
      "cell_type": "code",
      "metadata": {
        "id": "a9fGXRMLP6fB"
      },
      "source": [
        "sns.barplot(x=df_produc_carbon['Cantidad_Produccion'], y=df_produc_carbon['Departamento'])"
      ],
      "execution_count": null,
      "outputs": []
    },
    {
      "cell_type": "markdown",
      "metadata": {
        "id": "OpvGffUwSbgk"
      },
      "source": [
        "### **NOTA:** Se observa que el Dpto de la Guajira es quien domina la producción de Carbón. Seguido por el  Dpto de Cesar.\n",
        "\n",
        "---\n",
        "\n"
      ]
    },
    {
      "cell_type": "code",
      "metadata": {
        "colab": {
          "base_uri": "https://localhost:8080/",
          "height": 296
        },
        "id": "Q9bWccEUUCw3",
        "outputId": "9980e689-5585-4817-fdfb-c932455b9f92"
      },
      "source": [
        "sns.barplot(x=df_produc_carbon['Cantidad_Produccion'], y=df_produc_carbon['Nombre_Proyecto'])"
      ],
      "execution_count": 25,
      "outputs": [
        {
          "output_type": "execute_result",
          "data": {
            "text/plain": [
              "<matplotlib.axes._subplots.AxesSubplot at 0x7fd560388190>"
            ]
          },
          "metadata": {
            "tags": []
          },
          "execution_count": 25
        },
        {
          "output_type": "display_data",
          "data": {
            "image/png": "[encoded data removed]",
            "text/plain": [
              "<Figure size 432x288 with 1 Axes>"
            ]
          },
          "metadata": {
            "tags": [],
            "needs_background": "light"
          }
        }
      ]
    },
    {
      "cell_type": "code",
      "metadata": {
        "colab": {
          "base_uri": "https://localhost:8080/",
          "height": 296
        },
        "id": "mIGHAlkKUzO3",
        "outputId": "399c6e85-3ba6-43da-debb-3677063b86bc"
      },
      "source": [
        "sns.barplot(x=df_produc_carbon['Valor_Regalias'], y=df_produc_carbon['Nombre_Proyecto'], hue=df_produc_carbon['Tipo_Contraprestacion'])"
      ],
      "execution_count": 26,
      "outputs": [
        {
          "output_type": "execute_result",
          "data": {
            "text/plain": [
              "<matplotlib.axes._subplots.AxesSubplot at 0x7fd5602a9990>"
            ]
          },
          "metadata": {
            "tags": []
          },
          "execution_count": 26
        },
        {
          "output_type": "display_data",
          "data": {
            "image/png": "[encoded data removed]",
            "text/plain": [
              "<Figure size 432x288 with 1 Axes>"
            ]
          },
          "metadata": {
            "tags": [],
            "needs_background": "light"
          }
        }
      ]
    },
    {
      "cell_type": "code",
      "metadata": {
        "colab": {
          "base_uri": "https://localhost:8080/",
          "height": 297
        },
        "id": "c2-7jupU6JPQ",
        "outputId": "11d30217-5f1d-43b6-acb3-8c944105bf78"
      },
      "source": [
        "sns.barplot(x=df_produc_carbon['Valor_Regalias'], y=df_produc_carbon['Tipo_Contraprestacion'])"
      ],
      "execution_count": 27,
      "outputs": [
        {
          "output_type": "execute_result",
          "data": {
            "text/plain": [
              "<matplotlib.axes._subplots.AxesSubplot at 0x7fd56016b690>"
            ]
          },
          "metadata": {
            "tags": []
          },
          "execution_count": 27
        },
        {
          "output_type": "display_data",
          "data": {
            "image/png": "[encoded data removed]",
            "text/plain": [
              "<Figure size 432x288 with 1 Axes>"
            ]
          },
          "metadata": {
            "tags": [],
            "needs_background": "light"
          }
        }
      ]
    },
    {
      "cell_type": "markdown",
      "metadata": {
        "id": "A8Qt2Lk-4TPz"
      },
      "source": [
        "# **Producción filtrada por año 2012**"
      ]
    },
    {
      "cell_type": "code",
      "metadata": {
        "colab": {
          "base_uri": "https://localhost:8080/",
          "height": 612
        },
        "id": "a6DpL_ZG6eSJ",
        "outputId": "e99a960d-a9c7-4460-fe4b-333b1fcdb997"
      },
      "source": [
        "produccion_2012 = df_produc_carbon.query('Año_Produccion == 2012')\n",
        "df_produccion_2012 = pd.DataFrame(produccion_2012)\n",
        "\n",
        "df_produccion_2012"
      ],
      "execution_count": 29,
      "outputs": [
        {
          "output_type": "execute_result",
          "data": {
            "text/html": [
              "<div>\n",
              "<style scoped>\n",
              "    .dataframe tbody tr th:only-of-type {\n",
              "        vertical-align: middle;\n",
              "    }\n",
              "\n",
              "    .dataframe tbody tr th {\n",
              "        vertical-align: top;\n",
              "    }\n",
              "\n",
              "    .dataframe thead th {\n",
              "        text-align: right;\n",
              "    }\n",
              "</style>\n",
              "<table border=\"1\" class=\"dataframe\">\n",
              "  <thead>\n",
              "    <tr style=\"text-align: right;\">\n",
              "      <th></th>\n",
              "      <th>Id_DANE</th>\n",
              "      <th>Municipio</th>\n",
              "      <th>Departamento</th>\n",
              "      <th>Mineral</th>\n",
              "      <th>Nombre_Proyecto</th>\n",
              "      <th>Año_Produccion</th>\n",
              "      <th>Trimestre</th>\n",
              "      <th>Unid_Medida</th>\n",
              "      <th>Tipo_Contraprestacion</th>\n",
              "      <th>Valor_Regalias</th>\n",
              "      <th>Cantidad_Produccion</th>\n",
              "    </tr>\n",
              "  </thead>\n",
              "  <tbody>\n",
              "    <tr>\n",
              "      <th>1</th>\n",
              "      <td>5030</td>\n",
              "      <td>Amaga</td>\n",
              "      <td>Antioquia</td>\n",
              "      <td>CARBON</td>\n",
              "      <td>PRODUCTORES</td>\n",
              "      <td>2012</td>\n",
              "      <td>Trimestre 1</td>\n",
              "      <td>TONELADAS</td>\n",
              "      <td>REGALIA</td>\n",
              "      <td>122838878.0</td>\n",
              "      <td>23309</td>\n",
              "    </tr>\n",
              "    <tr>\n",
              "      <th>12</th>\n",
              "      <td>5030</td>\n",
              "      <td>Amaga</td>\n",
              "      <td>Antioquia</td>\n",
              "      <td>CARBON</td>\n",
              "      <td>PRODUCTORES</td>\n",
              "      <td>2012</td>\n",
              "      <td>Trimestre 2</td>\n",
              "      <td>TONELADAS</td>\n",
              "      <td>REGALIA</td>\n",
              "      <td>92134610.0</td>\n",
              "      <td>17071</td>\n",
              "    </tr>\n",
              "    <tr>\n",
              "      <th>21</th>\n",
              "      <td>5030</td>\n",
              "      <td>Amaga</td>\n",
              "      <td>Antioquia</td>\n",
              "      <td>CARBON</td>\n",
              "      <td>PRODUCTORES</td>\n",
              "      <td>2012</td>\n",
              "      <td>Trimestre 3</td>\n",
              "      <td>TONELADAS</td>\n",
              "      <td>REGALIA</td>\n",
              "      <td>134329659.0</td>\n",
              "      <td>176936</td>\n",
              "    </tr>\n",
              "    <tr>\n",
              "      <th>32</th>\n",
              "      <td>5030</td>\n",
              "      <td>Amaga</td>\n",
              "      <td>Antioquia</td>\n",
              "      <td>CARBON</td>\n",
              "      <td>PRODUCTORES</td>\n",
              "      <td>2012</td>\n",
              "      <td>Trimestre 4</td>\n",
              "      <td>TONELADAS</td>\n",
              "      <td>REGALIA</td>\n",
              "      <td>702435755.0</td>\n",
              "      <td>20606</td>\n",
              "    </tr>\n",
              "    <tr>\n",
              "      <th>41</th>\n",
              "      <td>5036</td>\n",
              "      <td>Angelopolis</td>\n",
              "      <td>Antioquia</td>\n",
              "      <td>CARBON</td>\n",
              "      <td>PRODUCTORES</td>\n",
              "      <td>2012</td>\n",
              "      <td>Trimestre 1</td>\n",
              "      <td>TONELADAS</td>\n",
              "      <td>REGALIA</td>\n",
              "      <td>5623564.0</td>\n",
              "      <td>1067</td>\n",
              "    </tr>\n",
              "    <tr>\n",
              "      <th>...</th>\n",
              "      <td>...</td>\n",
              "      <td>...</td>\n",
              "      <td>...</td>\n",
              "      <td>...</td>\n",
              "      <td>...</td>\n",
              "      <td>...</td>\n",
              "      <td>...</td>\n",
              "      <td>...</td>\n",
              "      <td>...</td>\n",
              "      <td>...</td>\n",
              "      <td>...</td>\n",
              "    </tr>\n",
              "    <tr>\n",
              "      <th>4557</th>\n",
              "      <td>76892</td>\n",
              "      <td>Yumbo</td>\n",
              "      <td>Valle del Cauca</td>\n",
              "      <td>CARBON</td>\n",
              "      <td>PRODUCTORES</td>\n",
              "      <td>2012</td>\n",
              "      <td>Trimestre 2</td>\n",
              "      <td>TONELADAS</td>\n",
              "      <td>REGALIA</td>\n",
              "      <td>6276562.0</td>\n",
              "      <td>1163</td>\n",
              "    </tr>\n",
              "    <tr>\n",
              "      <th>4559</th>\n",
              "      <td>76892</td>\n",
              "      <td>Yumbo</td>\n",
              "      <td>Valle del Cauca</td>\n",
              "      <td>CARBON</td>\n",
              "      <td>PRODUCTORES</td>\n",
              "      <td>2012</td>\n",
              "      <td>Trimestre 4</td>\n",
              "      <td>TONELADAS</td>\n",
              "      <td>REGALIA</td>\n",
              "      <td>6261248.0</td>\n",
              "      <td>1574</td>\n",
              "    </tr>\n",
              "    <tr>\n",
              "      <th>4562</th>\n",
              "      <td>85279</td>\n",
              "      <td>Recetor</td>\n",
              "      <td>Casanare</td>\n",
              "      <td>CARBON</td>\n",
              "      <td>PRODUCTORES</td>\n",
              "      <td>2012</td>\n",
              "      <td>Trimestre 1</td>\n",
              "      <td>TONELADAS</td>\n",
              "      <td>REGALIA</td>\n",
              "      <td>790500.0</td>\n",
              "      <td>150</td>\n",
              "    </tr>\n",
              "    <tr>\n",
              "      <th>4574</th>\n",
              "      <td>85279</td>\n",
              "      <td>Recetor</td>\n",
              "      <td>Casanare</td>\n",
              "      <td>CARBON</td>\n",
              "      <td>PRODUCTORES</td>\n",
              "      <td>2012</td>\n",
              "      <td>Trimestre 3</td>\n",
              "      <td>TONELADAS</td>\n",
              "      <td>REGALIA</td>\n",
              "      <td>199300.0</td>\n",
              "      <td>50</td>\n",
              "    </tr>\n",
              "    <tr>\n",
              "      <th>4579</th>\n",
              "      <td>85279</td>\n",
              "      <td>Recetor</td>\n",
              "      <td>Casanare</td>\n",
              "      <td>CARBON</td>\n",
              "      <td>PRODUCTORES</td>\n",
              "      <td>2012</td>\n",
              "      <td>Trimestre 4</td>\n",
              "      <td>TONELADAS</td>\n",
              "      <td>REGALIA</td>\n",
              "      <td>977123.0</td>\n",
              "      <td>213</td>\n",
              "    </tr>\n",
              "  </tbody>\n",
              "</table>\n",
              "<p>528 rows × 11 columns</p>\n",
              "</div>"
            ],
            "text/plain": [
              "      Id_DANE    Municipio  ... Valor_Regalias Cantidad_Produccion\n",
              "1        5030        Amaga  ...    122838878.0               23309\n",
              "12       5030        Amaga  ...     92134610.0               17071\n",
              "21       5030        Amaga  ...    134329659.0              176936\n",
              "32       5030        Amaga  ...    702435755.0               20606\n",
              "41       5036  Angelopolis  ...      5623564.0                1067\n",
              "...       ...          ...  ...            ...                 ...\n",
              "4557    76892        Yumbo  ...      6276562.0                1163\n",
              "4559    76892        Yumbo  ...      6261248.0                1574\n",
              "4562    85279      Recetor  ...       790500.0                 150\n",
              "4574    85279      Recetor  ...       199300.0                  50\n",
              "4579    85279      Recetor  ...       977123.0                 213\n",
              "\n",
              "[528 rows x 11 columns]"
            ]
          },
          "metadata": {
            "tags": []
          },
          "execution_count": 29
        }
      ]
    },
    {
      "cell_type": "markdown",
      "metadata": {
        "id": "xuyXE2Ky4ay4"
      },
      "source": [
        "## Valores altos y bajos de las variables:\n",
        "\n",
        "\n",
        "*   Cantidad_Produccion\n",
        "*   Valor_Regalias\n",
        "\n"
      ]
    },
    {
      "cell_type": "code",
      "metadata": {
        "colab": {
          "base_uri": "https://localhost:8080/",
          "height": 311
        },
        "id": "a_kQvPjH1McV",
        "outputId": "79c74812-4a00-43c1-faad-d1fbb121d838"
      },
      "source": [
        "df_produccion_2012.nsmallest(5, 'Cantidad_Produccion')"
      ],
      "execution_count": 30,
      "outputs": [
        {
          "output_type": "execute_result",
          "data": {
            "text/html": [
              "<div>\n",
              "<style scoped>\n",
              "    .dataframe tbody tr th:only-of-type {\n",
              "        vertical-align: middle;\n",
              "    }\n",
              "\n",
              "    .dataframe tbody tr th {\n",
              "        vertical-align: top;\n",
              "    }\n",
              "\n",
              "    .dataframe thead th {\n",
              "        text-align: right;\n",
              "    }\n",
              "</style>\n",
              "<table border=\"1\" class=\"dataframe\">\n",
              "  <thead>\n",
              "    <tr style=\"text-align: right;\">\n",
              "      <th></th>\n",
              "      <th>Id_DANE</th>\n",
              "      <th>Municipio</th>\n",
              "      <th>Departamento</th>\n",
              "      <th>Mineral</th>\n",
              "      <th>Nombre_Proyecto</th>\n",
              "      <th>Año_Produccion</th>\n",
              "      <th>Trimestre</th>\n",
              "      <th>Unid_Medida</th>\n",
              "      <th>Tipo_Contraprestacion</th>\n",
              "      <th>Valor_Regalias</th>\n",
              "      <th>Cantidad_Produccion</th>\n",
              "    </tr>\n",
              "  </thead>\n",
              "  <tbody>\n",
              "    <tr>\n",
              "      <th>63</th>\n",
              "      <td>5282</td>\n",
              "      <td>Fredonia</td>\n",
              "      <td>Antioquia</td>\n",
              "      <td>CARBON</td>\n",
              "      <td>PRODUCTORES</td>\n",
              "      <td>2012</td>\n",
              "      <td>Trimestre 4</td>\n",
              "      <td>TONELADAS</td>\n",
              "      <td>REGALIA</td>\n",
              "      <td>287282581.0</td>\n",
              "      <td>0</td>\n",
              "    </tr>\n",
              "    <tr>\n",
              "      <th>115</th>\n",
              "      <td>5861</td>\n",
              "      <td>Venecia</td>\n",
              "      <td>Antioquia</td>\n",
              "      <td>CARBON</td>\n",
              "      <td>PRODUCTORES</td>\n",
              "      <td>2012</td>\n",
              "      <td>Trimestre 4</td>\n",
              "      <td>TONELADAS</td>\n",
              "      <td>REGALIA</td>\n",
              "      <td>127171483.0</td>\n",
              "      <td>0</td>\n",
              "    </tr>\n",
              "    <tr>\n",
              "      <th>516</th>\n",
              "      <td>15368</td>\n",
              "      <td>Jerico</td>\n",
              "      <td>Boyaca</td>\n",
              "      <td>CARBON</td>\n",
              "      <td>MINAS PAZ DEL RIO S.A.</td>\n",
              "      <td>2012</td>\n",
              "      <td>Trimestre 2</td>\n",
              "      <td>TONELADAS</td>\n",
              "      <td>COMPENSACION</td>\n",
              "      <td>1090225.0</td>\n",
              "      <td>0</td>\n",
              "    </tr>\n",
              "    <tr>\n",
              "      <th>524</th>\n",
              "      <td>15368</td>\n",
              "      <td>Jerico</td>\n",
              "      <td>Boyaca</td>\n",
              "      <td>CARBON</td>\n",
              "      <td>MINAS PAZ DEL RIO S.A.</td>\n",
              "      <td>2012</td>\n",
              "      <td>Trimestre 3</td>\n",
              "      <td>TONELADAS</td>\n",
              "      <td>COMPENSACION</td>\n",
              "      <td>2323284.0</td>\n",
              "      <td>0</td>\n",
              "    </tr>\n",
              "    <tr>\n",
              "      <th>530</th>\n",
              "      <td>15368</td>\n",
              "      <td>Jerico</td>\n",
              "      <td>Boyaca</td>\n",
              "      <td>CARBON</td>\n",
              "      <td>MINAS PAZ DEL RIO S.A.</td>\n",
              "      <td>2012</td>\n",
              "      <td>Trimestre 4</td>\n",
              "      <td>TONELADAS</td>\n",
              "      <td>COMPENSACION</td>\n",
              "      <td>1492720.0</td>\n",
              "      <td>0</td>\n",
              "    </tr>\n",
              "  </tbody>\n",
              "</table>\n",
              "</div>"
            ],
            "text/plain": [
              "     Id_DANE Municipio  ... Valor_Regalias Cantidad_Produccion\n",
              "63      5282  Fredonia  ...    287282581.0                   0\n",
              "115     5861   Venecia  ...    127171483.0                   0\n",
              "516    15368    Jerico  ...      1090225.0                   0\n",
              "524    15368    Jerico  ...      2323284.0                   0\n",
              "530    15368    Jerico  ...      1492720.0                   0\n",
              "\n",
              "[5 rows x 11 columns]"
            ]
          },
          "metadata": {
            "tags": []
          },
          "execution_count": 30
        }
      ]
    },
    {
      "cell_type": "code",
      "metadata": {
        "colab": {
          "base_uri": "https://localhost:8080/",
          "height": 328
        },
        "id": "4vQdrlpT184A",
        "outputId": "cd7ed072-8d78-4f39-b563-ca4b18552c04"
      },
      "source": [
        "df_produccion_2012.nsmallest(5, 'Valor_Regalias')"
      ],
      "execution_count": 31,
      "outputs": [
        {
          "output_type": "execute_result",
          "data": {
            "text/html": [
              "<div>\n",
              "<style scoped>\n",
              "    .dataframe tbody tr th:only-of-type {\n",
              "        vertical-align: middle;\n",
              "    }\n",
              "\n",
              "    .dataframe tbody tr th {\n",
              "        vertical-align: top;\n",
              "    }\n",
              "\n",
              "    .dataframe thead th {\n",
              "        text-align: right;\n",
              "    }\n",
              "</style>\n",
              "<table border=\"1\" class=\"dataframe\">\n",
              "  <thead>\n",
              "    <tr style=\"text-align: right;\">\n",
              "      <th></th>\n",
              "      <th>Id_DANE</th>\n",
              "      <th>Municipio</th>\n",
              "      <th>Departamento</th>\n",
              "      <th>Mineral</th>\n",
              "      <th>Nombre_Proyecto</th>\n",
              "      <th>Año_Produccion</th>\n",
              "      <th>Trimestre</th>\n",
              "      <th>Unid_Medida</th>\n",
              "      <th>Tipo_Contraprestacion</th>\n",
              "      <th>Valor_Regalias</th>\n",
              "      <th>Cantidad_Produccion</th>\n",
              "    </tr>\n",
              "  </thead>\n",
              "  <tbody>\n",
              "    <tr>\n",
              "      <th>4408</th>\n",
              "      <td>68266</td>\n",
              "      <td>Enciso</td>\n",
              "      <td>Santander</td>\n",
              "      <td>CARBON</td>\n",
              "      <td>PRODUCTORES</td>\n",
              "      <td>2012</td>\n",
              "      <td>Trimestre 2</td>\n",
              "      <td>TONELADAS</td>\n",
              "      <td>REGALIA</td>\n",
              "      <td>750.0</td>\n",
              "      <td>192</td>\n",
              "    </tr>\n",
              "    <tr>\n",
              "      <th>749</th>\n",
              "      <td>15491</td>\n",
              "      <td>Nobsa</td>\n",
              "      <td>Boyaca</td>\n",
              "      <td>CARBON</td>\n",
              "      <td>PRODUCTORES</td>\n",
              "      <td>2012</td>\n",
              "      <td>Trimestre 2</td>\n",
              "      <td>TONELADAS</td>\n",
              "      <td>REGALIA</td>\n",
              "      <td>1790.0</td>\n",
              "      <td>459</td>\n",
              "    </tr>\n",
              "    <tr>\n",
              "      <th>4476</th>\n",
              "      <td>68684</td>\n",
              "      <td>San Jose de Miranda</td>\n",
              "      <td>Santander</td>\n",
              "      <td>CARBON</td>\n",
              "      <td>PRODUCTORES</td>\n",
              "      <td>2012</td>\n",
              "      <td>Trimestre 2</td>\n",
              "      <td>TONELADAS</td>\n",
              "      <td>REGALIA</td>\n",
              "      <td>2531.0</td>\n",
              "      <td>96</td>\n",
              "    </tr>\n",
              "    <tr>\n",
              "      <th>1495</th>\n",
              "      <td>15804</td>\n",
              "      <td>Tibana</td>\n",
              "      <td>Boyaca</td>\n",
              "      <td>CARBON</td>\n",
              "      <td>PRODUCTORES</td>\n",
              "      <td>2012</td>\n",
              "      <td>Trimestre 4</td>\n",
              "      <td>TONELADAS</td>\n",
              "      <td>REGALIA</td>\n",
              "      <td>43670.0</td>\n",
              "      <td>11</td>\n",
              "    </tr>\n",
              "    <tr>\n",
              "      <th>3115</th>\n",
              "      <td>25885</td>\n",
              "      <td>Yacopi</td>\n",
              "      <td>Cundinamarca</td>\n",
              "      <td>CARBON</td>\n",
              "      <td>PRODUCTORES</td>\n",
              "      <td>2012</td>\n",
              "      <td>Trimestre 1</td>\n",
              "      <td>TONELADAS</td>\n",
              "      <td>REGALIA</td>\n",
              "      <td>104802.0</td>\n",
              "      <td>10</td>\n",
              "    </tr>\n",
              "  </tbody>\n",
              "</table>\n",
              "</div>"
            ],
            "text/plain": [
              "      Id_DANE            Municipio  ... Valor_Regalias Cantidad_Produccion\n",
              "4408    68266               Enciso  ...          750.0                 192\n",
              "749     15491                Nobsa  ...         1790.0                 459\n",
              "4476    68684  San Jose de Miranda  ...         2531.0                  96\n",
              "1495    15804               Tibana  ...        43670.0                  11\n",
              "3115    25885               Yacopi  ...       104802.0                  10\n",
              "\n",
              "[5 rows x 11 columns]"
            ]
          },
          "metadata": {
            "tags": []
          },
          "execution_count": 31
        }
      ]
    },
    {
      "cell_type": "code",
      "metadata": {
        "colab": {
          "base_uri": "https://localhost:8080/",
          "height": 311
        },
        "id": "CY9DyO4H1ovQ",
        "outputId": "01ac6c7b-be35-49d4-e745-6204408b3838"
      },
      "source": [
        "df_produccion_2012.nlargest(5, 'Cantidad_Produccion')"
      ],
      "execution_count": 32,
      "outputs": [
        {
          "output_type": "execute_result",
          "data": {
            "text/html": [
              "<div>\n",
              "<style scoped>\n",
              "    .dataframe tbody tr th:only-of-type {\n",
              "        vertical-align: middle;\n",
              "    }\n",
              "\n",
              "    .dataframe tbody tr th {\n",
              "        vertical-align: top;\n",
              "    }\n",
              "\n",
              "    .dataframe thead th {\n",
              "        text-align: right;\n",
              "    }\n",
              "</style>\n",
              "<table border=\"1\" class=\"dataframe\">\n",
              "  <thead>\n",
              "    <tr style=\"text-align: right;\">\n",
              "      <th></th>\n",
              "      <th>Id_DANE</th>\n",
              "      <th>Municipio</th>\n",
              "      <th>Departamento</th>\n",
              "      <th>Mineral</th>\n",
              "      <th>Nombre_Proyecto</th>\n",
              "      <th>Año_Produccion</th>\n",
              "      <th>Trimestre</th>\n",
              "      <th>Unid_Medida</th>\n",
              "      <th>Tipo_Contraprestacion</th>\n",
              "      <th>Valor_Regalias</th>\n",
              "      <th>Cantidad_Produccion</th>\n",
              "    </tr>\n",
              "  </thead>\n",
              "  <tbody>\n",
              "    <tr>\n",
              "      <th>3253</th>\n",
              "      <td>44035</td>\n",
              "      <td>Albania</td>\n",
              "      <td>La Guajira</td>\n",
              "      <td>CARBON</td>\n",
              "      <td>CERREJON  CZN - CEMT</td>\n",
              "      <td>2012</td>\n",
              "      <td>Trimestre 1</td>\n",
              "      <td>TONELADAS</td>\n",
              "      <td>REGALIA</td>\n",
              "      <td>2.329091e+10</td>\n",
              "      <td>5066242</td>\n",
              "    </tr>\n",
              "    <tr>\n",
              "      <th>3270</th>\n",
              "      <td>44035</td>\n",
              "      <td>Albania</td>\n",
              "      <td>La Guajira</td>\n",
              "      <td>CARBON</td>\n",
              "      <td>CERREJON  CZN - CEMT</td>\n",
              "      <td>2012</td>\n",
              "      <td>Trimestre 2</td>\n",
              "      <td>TONELADAS</td>\n",
              "      <td>REGALIA</td>\n",
              "      <td>2.199837e+10</td>\n",
              "      <td>4973377</td>\n",
              "    </tr>\n",
              "    <tr>\n",
              "      <th>3305</th>\n",
              "      <td>44035</td>\n",
              "      <td>Albania</td>\n",
              "      <td>La Guajira</td>\n",
              "      <td>CARBON</td>\n",
              "      <td>CERREJON  CZN - CEMT</td>\n",
              "      <td>2012</td>\n",
              "      <td>Trimestre 4</td>\n",
              "      <td>TONELADAS</td>\n",
              "      <td>REGALIA</td>\n",
              "      <td>1.680442e+10</td>\n",
              "      <td>4967705</td>\n",
              "    </tr>\n",
              "    <tr>\n",
              "      <th>3287</th>\n",
              "      <td>44035</td>\n",
              "      <td>Albania</td>\n",
              "      <td>La Guajira</td>\n",
              "      <td>CARBON</td>\n",
              "      <td>CERREJON  CZN - CEMT</td>\n",
              "      <td>2012</td>\n",
              "      <td>Trimestre 3</td>\n",
              "      <td>TONELADAS</td>\n",
              "      <td>REGALIA</td>\n",
              "      <td>1.846230e+10</td>\n",
              "      <td>4737051</td>\n",
              "    </tr>\n",
              "    <tr>\n",
              "      <th>1826</th>\n",
              "      <td>20013</td>\n",
              "      <td>Agustin Codazzi</td>\n",
              "      <td>Cesar</td>\n",
              "      <td>CARBON</td>\n",
              "      <td>Drummond - El Descanso</td>\n",
              "      <td>2012</td>\n",
              "      <td>Trimestre 4</td>\n",
              "      <td>TONELADAS</td>\n",
              "      <td>REGALIA</td>\n",
              "      <td>3.406417e+10</td>\n",
              "      <td>2661367</td>\n",
              "    </tr>\n",
              "  </tbody>\n",
              "</table>\n",
              "</div>"
            ],
            "text/plain": [
              "      Id_DANE        Municipio  ... Valor_Regalias Cantidad_Produccion\n",
              "3253    44035          Albania  ...   2.329091e+10             5066242\n",
              "3270    44035          Albania  ...   2.199837e+10             4973377\n",
              "3305    44035          Albania  ...   1.680442e+10             4967705\n",
              "3287    44035          Albania  ...   1.846230e+10             4737051\n",
              "1826    20013  Agustin Codazzi  ...   3.406417e+10             2661367\n",
              "\n",
              "[5 rows x 11 columns]"
            ]
          },
          "metadata": {
            "tags": []
          },
          "execution_count": 32
        }
      ]
    },
    {
      "cell_type": "markdown",
      "metadata": {
        "id": "0qKuDMJu3_FU"
      },
      "source": [
        "### **NOTA:** Tenemos como gran productor CERREJON CZN - CEMT pero como mayor generador de regalias a Drummond - El Descanso\n",
        "\n",
        "---\n",
        "\n"
      ]
    },
    {
      "cell_type": "code",
      "metadata": {
        "colab": {
          "base_uri": "https://localhost:8080/",
          "height": 311
        },
        "id": "r1eS1xv52QkY",
        "outputId": "28e76863-28c1-46ca-9ef5-b3f29dc1d6ac"
      },
      "source": [
        "df_produccion_2012.nlargest(5, 'Valor_Regalias')"
      ],
      "execution_count": 33,
      "outputs": [
        {
          "output_type": "execute_result",
          "data": {
            "text/html": [
              "<div>\n",
              "<style scoped>\n",
              "    .dataframe tbody tr th:only-of-type {\n",
              "        vertical-align: middle;\n",
              "    }\n",
              "\n",
              "    .dataframe tbody tr th {\n",
              "        vertical-align: top;\n",
              "    }\n",
              "\n",
              "    .dataframe thead th {\n",
              "        text-align: right;\n",
              "    }\n",
              "</style>\n",
              "<table border=\"1\" class=\"dataframe\">\n",
              "  <thead>\n",
              "    <tr style=\"text-align: right;\">\n",
              "      <th></th>\n",
              "      <th>Id_DANE</th>\n",
              "      <th>Municipio</th>\n",
              "      <th>Departamento</th>\n",
              "      <th>Mineral</th>\n",
              "      <th>Nombre_Proyecto</th>\n",
              "      <th>Año_Produccion</th>\n",
              "      <th>Trimestre</th>\n",
              "      <th>Unid_Medida</th>\n",
              "      <th>Tipo_Contraprestacion</th>\n",
              "      <th>Valor_Regalias</th>\n",
              "      <th>Cantidad_Produccion</th>\n",
              "    </tr>\n",
              "  </thead>\n",
              "  <tbody>\n",
              "    <tr>\n",
              "      <th>1827</th>\n",
              "      <td>20013</td>\n",
              "      <td>Agustin Codazzi</td>\n",
              "      <td>Cesar</td>\n",
              "      <td>CARBON</td>\n",
              "      <td>Drummond - El Descanso</td>\n",
              "      <td>2012</td>\n",
              "      <td>Trimestre 4</td>\n",
              "      <td>TONELADAS</td>\n",
              "      <td>COMPENSACION</td>\n",
              "      <td>5.032030e+10</td>\n",
              "      <td>0</td>\n",
              "    </tr>\n",
              "    <tr>\n",
              "      <th>1783</th>\n",
              "      <td>20013</td>\n",
              "      <td>Agustin Codazzi</td>\n",
              "      <td>Cesar</td>\n",
              "      <td>CARBON</td>\n",
              "      <td>Drummond - El Descanso</td>\n",
              "      <td>2012</td>\n",
              "      <td>Trimestre 2</td>\n",
              "      <td>TONELADAS</td>\n",
              "      <td>COMPENSACION</td>\n",
              "      <td>3.877866e+10</td>\n",
              "      <td>0</td>\n",
              "    </tr>\n",
              "    <tr>\n",
              "      <th>1805</th>\n",
              "      <td>20013</td>\n",
              "      <td>Agustin Codazzi</td>\n",
              "      <td>Cesar</td>\n",
              "      <td>CARBON</td>\n",
              "      <td>Drummond - El Descanso</td>\n",
              "      <td>2012</td>\n",
              "      <td>Trimestre 3</td>\n",
              "      <td>TONELADAS</td>\n",
              "      <td>COMPENSACION</td>\n",
              "      <td>3.717180e+10</td>\n",
              "      <td>0</td>\n",
              "    </tr>\n",
              "    <tr>\n",
              "      <th>1782</th>\n",
              "      <td>20013</td>\n",
              "      <td>Agustin Codazzi</td>\n",
              "      <td>Cesar</td>\n",
              "      <td>CARBON</td>\n",
              "      <td>Drummond - El Descanso</td>\n",
              "      <td>2012</td>\n",
              "      <td>Trimestre 2</td>\n",
              "      <td>TONELADAS</td>\n",
              "      <td>REGALIA</td>\n",
              "      <td>3.635367e+10</td>\n",
              "      <td>2234124</td>\n",
              "    </tr>\n",
              "    <tr>\n",
              "      <th>1826</th>\n",
              "      <td>20013</td>\n",
              "      <td>Agustin Codazzi</td>\n",
              "      <td>Cesar</td>\n",
              "      <td>CARBON</td>\n",
              "      <td>Drummond - El Descanso</td>\n",
              "      <td>2012</td>\n",
              "      <td>Trimestre 4</td>\n",
              "      <td>TONELADAS</td>\n",
              "      <td>REGALIA</td>\n",
              "      <td>3.406417e+10</td>\n",
              "      <td>2661367</td>\n",
              "    </tr>\n",
              "  </tbody>\n",
              "</table>\n",
              "</div>"
            ],
            "text/plain": [
              "      Id_DANE        Municipio  ... Valor_Regalias Cantidad_Produccion\n",
              "1827    20013  Agustin Codazzi  ...   5.032030e+10                   0\n",
              "1783    20013  Agustin Codazzi  ...   3.877866e+10                   0\n",
              "1805    20013  Agustin Codazzi  ...   3.717180e+10                   0\n",
              "1782    20013  Agustin Codazzi  ...   3.635367e+10             2234124\n",
              "1826    20013  Agustin Codazzi  ...   3.406417e+10             2661367\n",
              "\n",
              "[5 rows x 11 columns]"
            ]
          },
          "metadata": {
            "tags": []
          },
          "execution_count": 33
        }
      ]
    }
  ]
}